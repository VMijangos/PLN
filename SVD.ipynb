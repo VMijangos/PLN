{
 "cells": [
  {
   "cell_type": "markdown",
   "metadata": {},
   "source": [
    "# Reducción de dimensionalidad"
   ]
  },
  {
   "cell_type": "raw",
   "metadata": {},
   "source": [
    "Ya vimos cómo realizar un modelo distribucional simple. Usaremos ese script para crear los vectores correspondientes a un corpus dado."
   ]
  },
  {
   "cell_type": "code",
   "execution_count": 1,
   "metadata": {
    "collapsed": true
   },
   "outputs": [],
   "source": [
    "%matplotlib inline\n",
    "from DSM import dsm\n",
    "import numpy as np"
   ]
  },
  {
   "cell_type": "raw",
   "metadata": {},
   "source": [
    "Pensemos que tenemos el siguiente corpus:"
   ]
  },
  {
   "cell_type": "code",
   "execution_count": 2,
   "metadata": {
    "collapsed": true
   },
   "outputs": [],
   "source": [
    "sentences = ['Juan come sushi','Pedro come unos tacos','Juan prepara tacos','Pedro prepara sushi']"
   ]
  },
  {
   "cell_type": "raw",
   "metadata": {},
   "source": [
    "Aplicamos la función que creará el dsm (está función es la que ya vimos anteriormente):"
   ]
  },
  {
   "cell_type": "code",
   "execution_count": 3,
   "metadata": {
    "collapsed": false
   },
   "outputs": [
    {
     "name": "stdout",
     "output_type": "stream",
     "text": [
      "[[ 0.  1.  1.  0.  0.  1.  1.]\n",
      " [ 1.  0.  1.  1.  1.  1.  0.]\n",
      " [ 1.  1.  0.  1.  0.  0.  1.]\n",
      " [ 0.  1.  1.  0.  1.  1.  1.]\n",
      " [ 0.  1.  0.  1.  0.  1.  0.]\n",
      " [ 1.  1.  0.  1.  1.  0.  1.]\n",
      " [ 1.  0.  1.  1.  0.  1.  0.]]\n"
     ]
    }
   ],
   "source": [
    "A, voc = dsm(sentences)\n",
    "print A"
   ]
  },
  {
   "cell_type": "raw",
   "metadata": {},
   "source": [
    "Ahora, para realizar la reducción en valores singulares, primero usaremos la descomposición en tres matrices distintas. La matriz S que es la diagonal formada por las raíces cuadradas de los valores propios de A. Q y D que son matrices formadas por los vectores propios de AA^t y A^tA, respectivamente."
   ]
  },
  {
   "cell_type": "code",
   "execution_count": 4,
   "metadata": {
    "collapsed": false
   },
   "outputs": [
    {
     "name": "stdout",
     "output_type": "stream",
     "text": [
      "[  4.37228132e+00   2.00000000e+00   2.00000000e+00   1.37228132e+00\n",
      "   1.00000000e+00   3.65060341e-16   1.06209955e-16]\n"
     ]
    }
   ],
   "source": [
    "Q,S,D = np.linalg.svd(A)\n",
    "print S"
   ]
  },
  {
   "cell_type": "raw",
   "metadata": {},
   "source": [
    "Ahora, se reduce la matriz Q a una matriz de mxk, k menor a n, y S a una matriz de kxk. En este caso, k=2"
   ]
  },
  {
   "cell_type": "code",
   "execution_count": 5,
   "metadata": {
    "collapsed": false
   },
   "outputs": [
    {
     "name": "stdout",
     "output_type": "stream",
     "text": [
      "[[ 4.37228132  0.        ]\n",
      " [ 0.          2.        ]]\n"
     ]
    }
   ],
   "source": [
    "k = 2\n",
    "Q = Q[:,:k]\n",
    "S = np.diag(S)[:k,:k]\n",
    "print S"
   ]
  },
  {
   "cell_type": "raw",
   "metadata": {},
   "source": [
    "Ahora crearemos una nueva matriz B con los elementos reducidos a 2 dimensiones:"
   ]
  },
  {
   "cell_type": "code",
   "execution_count": 6,
   "metadata": {
    "collapsed": false
   },
   "outputs": [
    {
     "name": "stdout",
     "output_type": "stream",
     "text": [
      "[[ -3.56163933e-01  -5.77350269e-01]\n",
      " [ -4.22460523e-01   2.88675135e-01]\n",
      " [ -3.56163933e-01   2.88675135e-01]\n",
      " [ -4.22460523e-01  -5.77350269e-01]\n",
      " [ -2.89867343e-01   1.66533454e-16]\n",
      " [ -4.22460523e-01   2.88675135e-01]\n",
      " [ -3.56163933e-01   2.88675135e-01]]\n"
     ]
    }
   ],
   "source": [
    "B = np.zeros((len(voc.keys()),k))\n",
    "for i,w in enumerate(A):\n",
    "    B[i] = np.dot(np.linalg.inv(S),np.dot(Q.T,w))\n",
    "    \n",
    "print B"
   ]
  },
  {
   "cell_type": "raw",
   "metadata": {},
   "source": [
    "Ahora, por ejemplo, \"Juan\" tiene el siguiente vector de dos dimensiones en B que podemos comparar con la amtriz original A."
   ]
  },
  {
   "cell_type": "code",
   "execution_count": 7,
   "metadata": {
    "collapsed": false
   },
   "outputs": [
    {
     "name": "stdout",
     "output_type": "stream",
     "text": [
      "[ 0.  1.  1.  0.  0.  1.  1.]\n",
      "[-0.35616393 -0.57735027]\n"
     ]
    }
   ],
   "source": [
    "print A[voc[\"Juan\"]]\n",
    "\n",
    "print B[voc[\"Juan\"]]"
   ]
  },
  {
   "cell_type": "raw",
   "metadata": {},
   "source": [
    "Finalmente, podemos ver cómo se ven en un espacio de dos dimensiones a partir de la siguiente función:"
   ]
  },
  {
   "cell_type": "code",
   "execution_count": 9,
   "metadata": {
    "collapsed": false
   },
   "outputs": [
    {
     "data": {
      "image/png": "[encoded data removed]",
      "text/plain": [
       "<matplotlib.figure.Figure at 0x7942be0>"
      ]
     },
     "metadata": {},
     "output_type": "display_data"
    }
   ],
   "source": [
    "def plot_words(Z,ids):\n",
    "    import matplotlib.pyplot as plt\n",
    "    r=0\n",
    "    plt.scatter(Z[:,0],Z[:,1], marker='o', c='blue')\n",
    "    for label,x,y in zip(ids, Z[:,0], Z[:,1]):\n",
    "        plt.annotate(label.decode('utf8'), xy=(x,y), xytext=(-1,1), textcoords='offset points', ha='center', va='bottom')\n",
    "        r+=1\n",
    "    plt.show()\n",
    "\n",
    "plot_words(B,voc.keys())"
   ]
  },
  {
   "cell_type": "raw",
   "metadata": {},
   "source": [
    "De esta forma podemos visualizar los datos en un espacio de dos dimensiones. Sin embargo, la apliación del algoritmo de SVD no sólo se reduce a esto. Este algoritmo es de gran importancia cuando trabajamos con corpus reales. En estos, el número de palabras pude llegar a ser de millones, por lo que nuestro espacio tendrá una dimensión sumamente grande. Esto hará que los algoritmos que trabajen con estos vectores se vuelvan problemáticos o que de plano no puedan aplicarse. Por tanto, es importante reducir la dimensionalidad para trabajar con datos de una dimensón menor"
   ]
  }
 ],
 "metadata": {
  "kernelspec": {
   "display_name": "Python 2",
   "language": "python",
   "name": "python2"
  },
  "language_info": {
   "codemirror_mode": {
    "name": "ipython",
    "version": 2
   },
   "file_extension": ".py",
   "mimetype": "text/x-python",
   "name": "python",
   "nbconvert_exporter": "python",
   "pygments_lexer": "ipython2",
   "version": "2.7.12"
  }
 },
 "nbformat": 4,
 "nbformat_minor": 0
}
