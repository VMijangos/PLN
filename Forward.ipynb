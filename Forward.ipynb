{
 "cells": [
  {
   "cell_type": "markdown",
   "metadata": {},
   "source": [
    "# Forward Procedure"
   ]
  },
  {
   "cell_type": "markdown",
   "metadata": {},
   "source": [
    "En este ejemplo, planteamos una forma eficiente de programar el procedimiento de avance a partir de operaciones con arreglos de numpy. En primer lugar, llamamos a la librería de numpy, la cual utilizaremos para crear y operar con los arreglos."
   ]
  },
  {
   "cell_type": "code",
   "execution_count": 1,
   "metadata": {
    "collapsed": true
   },
   "outputs": [],
   "source": [
    "import numpy as np"
   ]
  },
  {
   "cell_type": "markdown",
   "metadata": {},
   "source": [
    "Supóngamos que tenemos un Modelo Oculto de Markov $HMM = (S,O,A,B,\\Pi)$, donde los alfabetos se definan por números (para simplificar el accesos a las matrices de probabilidades). Así:\n",
    "$$S = \\{0,1,2,3,4,5,6,7,8,9\\}$$\n",
    "y\n",
    "$$O = \\{0,1,2,3,4,5,6,7,8,9\\}$$\n",
    "\n",
    "Las probabilidades se pueden determinar de la siguiente forma (aquí lo hacemos aleatoriamente, sólo por simplificar el ejemplo, pero en la realidad estas probabilidades deben obtenerse a partir de los datos de entrenamiento)."
   ]
  },
  {
   "cell_type": "code",
   "execution_count": 2,
   "metadata": {
    "collapsed": false
   },
   "outputs": [],
   "source": [
    "Pi = np.random.dirichlet(np.ones(10),size=1)[0]\n",
    "A = np.array([np.random.dirichlet(np.ones(10),size=1)[0] for i in range(10)])\n",
    "B = np.array([np.random.dirichlet(np.ones(10),size=1)[0] for i in range(10)])"
   ]
  },
  {
   "cell_type": "markdown",
   "metadata": {},
   "source": [
    "Estas probabilidades, junto con los alfabetos de observaciones y emisiones nos dan el Modelo Oculto de Markov $HMM$. Ahora supongamos que queremos determinar la probabilidad de una cadena de observaciones $o\\in O^*$, definida como sigue:"
   ]
  },
  {
   "cell_type": "code",
   "execution_count": 3,
   "metadata": {
    "collapsed": false
   },
   "outputs": [],
   "source": [
    "o = '120453'"
   ]
  },
  {
   "cell_type": "markdown",
   "metadata": {},
   "source": [
    "Utilizaremos el procedimiento de avance para determinar dicha probabilidad. Realizaremos los pasos de inicialización, inducción y terminación:\n",
    "\n",
    "(1) Inicialización. La inicialización está dada por el almacenamiento de las probabilidades inciiales en la variable de avance:\n",
    "\n",
    "$$\\alpha_i(1) := \\pi_i$$"
   ]
  },
  {
   "cell_type": "code",
   "execution_count": 4,
   "metadata": {
    "collapsed": true
   },
   "outputs": [],
   "source": [
    "a = Pi"
   ]
  },
  {
   "cell_type": "markdown",
   "metadata": {},
   "source": [
    "(2) Inducción. Los siguientes pasos consistirán en ir actualizando la variable de avance a partir de los diferentes estados de la cadena:\n",
    "\n",
    "$$\\alpha_i(t+1) = \\sum_{j=1}^N p(o_t|s_j)p(s_j|s_i)\\alpha_j(t)$$\n",
    "\n",
    "En este caso, utilizaremos operaciones entre matrices y vectores, pues es evidente que (tomando los elementos del modelo $A,B,\\Pi$):\n",
    "\n",
    "$$\\alpha_i(t+1) = B_{t,\\cdot} \\cdot (A_{\\cdot,i}\\otimes \\alpha_{\\cdot}(t)) $$\n",
    "\n",
    "donde $B_{t,\\cdot}$ representa el vector renglón que corresponde a la observación en el estado $t$ y $A_{\\cdot,i}$ el vector columna correspondiente a la condición $s_i$ y, finalmente, $\\alpha_{\\cdot}(t)$ es el vector que contiene todas las variables $\\alpha_i(t)$. Aquí $\\cdot$ representa el producto punto y $\\otimes$ el producto de Hadamard."
   ]
  },
  {
   "cell_type": "code",
   "execution_count": 6,
   "metadata": {
    "collapsed": false
   },
   "outputs": [
    {
     "name": "stdout",
     "output_type": "stream",
     "text": [
      "simbolo: 120453 - probabilidad 0.103403542754\n",
      "simbolo: 120453 - probabilidad 0.00850551921433\n",
      "simbolo: 120453 - probabilidad 0.00108371668895\n",
      "simbolo: 120453 - probabilidad 0.00010132304253\n",
      "simbolo: 120453 - probabilidad 1.08954770155e-05\n",
      "simbolo: 120453 - probabilidad 9.00336280168e-07\n"
     ]
    }
   ],
   "source": [
    "for t in range(len(o)):\n",
    "    a = np.dot(B[int(o[t])],A.T*a)\n",
    "    print 'simbolo:', o[:i+1], '- probabilidad',a.sum(0)"
   ]
  },
  {
   "cell_type": "markdown",
   "metadata": {},
   "source": [
    "(3) Terminación. Para la terminación, tenemos que:\n",
    "\n",
    "$$p(o) = \\sum_{i=1}^N \\alpha_i(T+1)$$\n",
    "\n",
    "Pero ya que hemos guardado cada variable $\\alpha_i$ como la entrada de un vector, basta sumar las entradas de este vector para obtener esta probabilidad:"
   ]
  },
  {
   "cell_type": "code",
   "execution_count": 9,
   "metadata": {
    "collapsed": false
   },
   "outputs": [
    {
     "name": "stdout",
     "output_type": "stream",
     "text": [
      "Probabilidad de la cadena 120453 es: 9.00336280168e-07\n"
     ]
    }
   ],
   "source": [
    "print 'Probabilidad de la cadena',o, 'es:', a.sum(0)"
   ]
  }
 ],
 "metadata": {
  "kernelspec": {
   "display_name": "Python 2",
   "language": "python",
   "name": "python2"
  },
  "language_info": {
   "codemirror_mode": {
    "name": "ipython",
    "version": 2
   },
   "file_extension": ".py",
   "mimetype": "text/x-python",
   "name": "python",
   "nbconvert_exporter": "python",
   "pygments_lexer": "ipython2",
   "version": "2.7.13"
  }
 },
 "nbformat": 4,
 "nbformat_minor": 2
}
