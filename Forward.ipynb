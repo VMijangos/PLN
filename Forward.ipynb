{
 "cells": [
  {
   "cell_type": "markdown",
   "metadata": {},
   "source": [
    "# Forward Procedure"
   ]
  },
  {
   "cell_type": "markdown",
   "metadata": {},
   "source": [
    "En este ejemplo, planteamos una forma eficiente de programar el procedimiento de avance a partir de operaciones con arreglos de numpy. En primer lugar, llamamos a la librería de numpy, la cual utilizaremos para crear y operar con los arreglos."
   ]
  },
  {
   "cell_type": "code",
   "execution_count": 1,
   "metadata": {
    "collapsed": true
   },
   "outputs": [],
   "source": [
    "from __future__ import division\n",
    "import numpy as np"
   ]
  },
  {
   "cell_type": "markdown",
   "metadata": {},
   "source": [
    "Supóngamos que tenemos un Modelo Oculto de Markov $HMM = (\\Sigma,\\Delta,A,B,\\Pi)$, donde el alfabeto deobservaciones se define por:\n",
    "\n",
    "$$\\Delta = \\{D, NN, V\\}$$\n",
    "\n",
    "Y el alfabeto de emisiones está determinado como: \n",
    "\n",
    "$$\\Sigma = \\{la, niña, garza, pasa\\}$$\n",
    "\n",
    "Para determinar estos símbolos, indexaremos los elementos de cada alfabeto a partir de dictionarios (en este caso hace falta únicamente indexar el alfabeto $\\Sigma$):"
   ]
  },
  {
   "cell_type": "code",
   "execution_count": 2,
   "metadata": {
    "collapsed": true
   },
   "outputs": [],
   "source": [
    "Sidx = {'la':0,'nina':1, 'garza':2, 'pasa':3}"
   ]
  },
  {
   "cell_type": "markdown",
   "metadata": {},
   "source": [
    "Las probabilidades se pueden determinar de la siguiente forma:"
   ]
  },
  {
   "cell_type": "code",
   "execution_count": 3,
   "metadata": {
    "collapsed": false
   },
   "outputs": [],
   "source": [
    "Pi = np.array([4/6, 1/6, 1/6])\n",
    "A = np.array([[1/6,1/6,1/5],[4/6,1/6,1/5],[1/6,3/6,1/5]])\n",
    "B = np.array([[4/7,1/7,1/6],[1/7,2/7,1/6],[1/7,2/7,1/6],[1/7,2/7,3/6]])"
   ]
  },
  {
   "cell_type": "markdown",
   "metadata": {},
   "source": [
    "Estas probabilidades, junto con los alfabetos de observaciones y emisiones nos dan el Modelo Oculto de Markov $HMM$. Ahora supongamos que queremos determinar la probabilidad de una cadena de observaciones $d\\in\\Delta^*$, definida como sigue:"
   ]
  },
  {
   "cell_type": "code",
   "execution_count": 4,
   "metadata": {
    "collapsed": false
   },
   "outputs": [
    {
     "name": "stdout",
     "output_type": "stream",
     "text": [
      "['la', 'nina', 'pasa', 'la', 'garza']\n"
     ]
    }
   ],
   "source": [
    "d = 'la nina pasa la garza'\n",
    "d = d.split()\n",
    "print d"
   ]
  },
  {
   "cell_type": "markdown",
   "metadata": {},
   "source": [
    "Utilizaremos el procedimiento de avance para determinar dicha probabilidad. Realizaremos los pasos de inicialización, inducción y terminación:\n",
    "\n",
    "(1) Inicialización. La inicialización está dada por el almacenamiento de las probabilidades inciiales en la variable de avance:\n",
    "\n",
    "$$\\alpha_i(0) := \\pi_i$$"
   ]
  },
  {
   "cell_type": "code",
   "execution_count": 5,
   "metadata": {
    "collapsed": true
   },
   "outputs": [],
   "source": [
    "a = Pi"
   ]
  },
  {
   "cell_type": "markdown",
   "metadata": {},
   "source": [
    "(2) Inducción. Los siguientes pasos consistirán en ir actualizando la variable de avance a partir de los diferentes estados de la cadena:\n",
    "\n",
    "$$\\alpha_i(t+1) =  p(s_t|d_i)\\sum_{j=1}^N p(d_i|d_j)\\alpha_j(t)$$\n",
    "\n",
    "En este caso, utilizaremos operaciones entre matrices y vectores, pues es evidente que (tomando los elementos del modelo $A,B,\\Pi$):\n",
    "\n",
    "$$\\alpha_i(t+1) = B_{t,\\cdot} \\otimes (A_{i,\\cdot} \\alpha_{\\cdot}(t))$$\n",
    "\n",
    "donde $B_{t,\\cdot}$ representa el vector renglón que corresponde a la observación en el estado $t$ y  $\\alpha_{\\cdot}(t)$ es el vector que contiene todas las variables $\\alpha_i(t)$. Aquí, $A_{i,\\cdot}$ representa el i-ésimo vector renglón de $A$ y $\\otimes$ representa el producto de Hadamard. En general, podemos actualizar todo el vector $\\alpha(t+1)$ (cuyas entradas son $\\alpha_i(t+1)$) tomando la matriz completa $A$. De tal forma que:\n",
    "\n",
    "$$\\alpha(t+1) = B_{t,\\cdot} \\otimes (A \\alpha_{\\cdot}(t)) $$"
   ]
  },
  {
   "cell_type": "code",
   "execution_count": 6,
   "metadata": {
    "collapsed": false
   },
   "outputs": [
    {
     "name": "stdout",
     "output_type": "stream",
     "text": [
      "simbolo: la - probabilidad 0.208597883598\n",
      "simbolo: la nina - probabilidad 0.0395187704712\n",
      "simbolo: la nina pasa - probabilidad 0.0112203685707\n",
      "simbolo: la nina pasa la - probabilidad 0.00208955127865\n",
      "simbolo: la nina pasa la garza - probabilidad 0.000411172135693\n"
     ]
    }
   ],
   "source": [
    "for t in range(len(d)):\n",
    "    a =  B[ Sidx[d[t]] ] * np.dot(A,a)\n",
    "    print 'simbolo:', (' ').join(d[:t+1]), '- probabilidad',a.sum(0)"
   ]
  },
  {
   "cell_type": "markdown",
   "metadata": {},
   "source": [
    "(3) Terminación. Para la terminación, tenemos que:\n",
    "\n",
    "$$p(d) = \\sum_{i=1}^N \\alpha_i(T)$$\n",
    "\n",
    "Pero ya que hemos guardado cada variable $\\alpha_i$ como la entrada de un vector, basta sumar las entradas de este vector para obtener esta probabilidad:"
   ]
  },
  {
   "cell_type": "code",
   "execution_count": 8,
   "metadata": {
    "collapsed": false
   },
   "outputs": [
    {
     "name": "stdout",
     "output_type": "stream",
     "text": [
      " Probabilidad de la cadena ['la', 'nina', 'pasa', 'la', 'garza'] es: 0.000411172135693\n"
     ]
    }
   ],
   "source": [
    "print 'Probabilidad de la cadena',d, 'es:', a.sum(0)"
   ]
  }
 ],
 "metadata": {
  "kernelspec": {
   "display_name": "Python 2",
   "language": "python",
   "name": "python2"
  },
  "language_info": {
   "codemirror_mode": {
    "name": "ipython",
    "version": 2
   },
   "file_extension": ".py",
   "mimetype": "text/x-python",
   "name": "python",
   "nbconvert_exporter": "python",
   "pygments_lexer": "ipython2",
   "version": "2.7.13"
  }
 },
 "nbformat": 4,
 "nbformat_minor": 2
}
