{
 "cells": [
  {
   "cell_type": "markdown",
   "metadata": {},
   "source": [
    "# Modelos Ocultos de Markov"
   ]
  },
  {
   "cell_type": "raw",
   "metadata": {},
   "source": [
    "Para crear un modelo oculto de Markov necesitaremos diferentes librerías:"
   ]
  },
  {
   "cell_type": "code",
   "execution_count": 1,
   "metadata": {
    "collapsed": true
   },
   "outputs": [],
   "source": [
    "from __future__ import division\n",
    "from csv import reader\n",
    "from collections import Counter, defaultdict\n",
    "import numpy as np\n",
    "from pickle import dump"
   ]
  },
  {
   "cell_type": "raw",
   "metadata": {},
   "source": [
    "Con la función reader() abriremos el archivo csv. En este se encuentran las palabras asociadas a su etiqueta. "
   ]
  },
  {
   "cell_type": "code",
   "execution_count": 2,
   "metadata": {
    "collapsed": false,
    "scrolled": false
   },
   "outputs": [
    {
     "name": "stdout",
     "output_type": "stream",
     "text": [
      "['la', 'DA']\n"
     ]
    }
   ],
   "source": [
    "doc = list(reader(open('corpusHMM2.csv','r'), delimiter=','))\n",
    "print doc[2]"
   ]
  },
  {
   "cell_type": "raw",
   "metadata": {},
   "source": [
    "Ahora tenemos que indicar cuáles son las observaciones y cuáles los símbolos de emisión. Asimimso, asignaremos sus frecuencias y las probabilidades iniciales."
   ]
  },
  {
   "cell_type": "code",
   "execution_count": 3,
   "metadata": {
    "collapsed": false
   },
   "outputs": [],
   "source": [
    "S = []\n",
    "O = []\n",
    "S_f = Counter()\n",
    "O_f = Counter()\n",
    "for item in doc:\n",
    "        tag = item[1]\n",
    "        token = item[0]\n",
    "        S_f[tag] += 1\n",
    "        O_f[token] += 1\n",
    "        S.append(tag)\n",
    "        O.append((token,tag))"
   ]
  },
  {
   "cell_type": "raw",
   "metadata": {},
   "source": [
    "Ahora, necesitamos pasar de la cadena de símbolos de emisión a una sección númerica para generar una matriz."
   ]
  },
  {
   "cell_type": "code",
   "execution_count": 4,
   "metadata": {
    "collapsed": false
   },
   "outputs": [],
   "source": [
    "def voc():\n",
    "    dict = defaultdict()\n",
    "    dict.default_factory = lambda: len(dict)\n",
    "    return dict\n",
    "\n",
    "def get_ids(C,dict):\n",
    "    yield [dict[w] for w in C]\n",
    "    \n",
    "S_v = voc()\n",
    "S_num = list(get_ids(S,S_v))"
   ]
  },
  {
   "cell_type": "raw",
   "metadata": {},
   "source": [
    "Determinaremos la matriz de transiciones."
   ]
  },
  {
   "cell_type": "code",
   "execution_count": 5,
   "metadata": {
    "collapsed": true
   },
   "outputs": [],
   "source": [
    "n = len(S_v)\n",
    "\n",
    "A = np.zeros((n,n))"
   ]
  },
  {
   "cell_type": "raw",
   "metadata": {},
   "source": [
    "Y definiremos la función de probabilidad condicional."
   ]
  },
  {
   "cell_type": "code",
   "execution_count": 6,
   "metadata": {
    "collapsed": true
   },
   "outputs": [],
   "source": [
    "def pr (x, cond, N, l=1):\n",
    "    return (x+l) / (cond + l*N)\t"
   ]
  },
  {
   "cell_type": "raw",
   "metadata": {},
   "source": [
    "Donde N es el número de tokens para los símbolos de emisión (o de palabras en el caso de la matriz de probabilidades de símbolos de emisión)."
   ]
  },
  {
   "cell_type": "raw",
   "metadata": {},
   "source": [
    "Ahora, vamos a asignar las probabilidades de transiciones a la matriz A. Vamos a usar la función Counter() para contar la frecuencia de las transiciones."
   ]
  },
  {
   "cell_type": "code",
   "execution_count": 7,
   "metadata": {
    "collapsed": false,
    "scrolled": true
   },
   "outputs": [
    {
     "name": "stdout",
     "output_type": "stream",
     "text": [
      "[[ 0.1         0.1         0.1         0.2         0.2         0.2       ]\n",
      " [ 0.28571429  0.14285714  0.14285714  0.14285714  0.14285714  0.14285714]\n",
      " [ 0.14285714  0.28571429  0.14285714  0.14285714  0.14285714  0.14285714]\n",
      " [ 0.25        0.125       0.25        0.125       0.125       0.125     ]\n",
      " [ 0.14285714  0.14285714  0.14285714  0.28571429  0.14285714  0.14285714]\n",
      " [ 0.33333333  0.11111111  0.11111111  0.11111111  0.11111111  0.22222222]]\n"
     ]
    }
   ],
   "source": [
    "chains = Counter(zip(S, S[1:]))\n",
    "for x in S:\n",
    "    for y in S:\n",
    "        f_conj = chains[(x,y)]\n",
    "        A[S_v[y],S_v[x]] = pr(f_conj, S_f[y],n)\n",
    "    \n",
    "print A"
   ]
  },
  {
   "cell_type": "raw",
   "metadata": {},
   "source": [
    "Ahora comprobemos que la suma sea igual a 1."
   ]
  },
  {
   "cell_type": "code",
   "execution_count": 8,
   "metadata": {
    "collapsed": false
   },
   "outputs": [
    {
     "name": "stdout",
     "output_type": "stream",
     "text": [
      "[ 0.9  1.   1.   1.   1.   1. ]\n"
     ]
    }
   ],
   "source": [
    "print A.sum(1)"
   ]
  },
  {
   "cell_type": "raw",
   "metadata": {},
   "source": [
    "Como se ve, la suma es siempre 1 o cercana a 1. Ahora, guardemos esta parte del modelo con la función dump."
   ]
  },
  {
   "cell_type": "code",
   "execution_count": null,
   "metadata": {
    "collapsed": true
   },
   "outputs": [],
   "source": [
    "f = open('HMM.p','w')\n",
    "HMM = [A,dict(S_v),dict(O_v)]\n",
    "dump(HMM,f)"
   ]
  },
  {
   "cell_type": "raw",
   "metadata": {},
   "source": [
    "Guardar el modelo nos ayudará a más adelante poder acceder a él con la función de pickle. De esta forma, podemos crear un modelo suficientemente grande sin tener que estar entrenando por cada vez que lo corramos. Así, para abrir este modelo tendríamos que hacer lo siguiente:"
   ]
  },
  {
   "cell_type": "code",
   "execution_count": null,
   "metadata": {
    "collapsed": true
   },
   "outputs": [],
   "source": [
    "from pickle import load\n",
    "\n",
    "A,S,O = load(open('HMM.p','r'))"
   ]
  },
  {
   "cell_type": "raw",
   "metadata": {},
   "source": [
    "Este modelo es parcial, pues falta la matriz de probabilidades de símbolos de emisión y el vector de probabilidades iniciales. Sin embargo, estos elementos no son difíciles de hacer y ya se tienen las herramientas necesarias para estos."
   ]
  }
 ],
 "metadata": {
  "kernelspec": {
   "display_name": "Python 2",
   "language": "python",
   "name": "python2"
  },
  "language_info": {
   "codemirror_mode": {
    "name": "ipython",
    "version": 2
   },
   "file_extension": ".py",
   "mimetype": "text/x-python",
   "name": "python",
   "nbconvert_exporter": "python",
   "pygments_lexer": "ipython2",
   "version": "2.7.11"
  }
 },
 "nbformat": 4,
 "nbformat_minor": 0
}
