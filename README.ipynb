{
 "cells": [
  {
   "cell_type": "code",
   "execution_count": 2,
   "metadata": {},
   "outputs": [
    {
     "name": "stderr",
     "output_type": "stream",
     "text": [
      "Using TensorFlow backend.\n"
     ]
    }
   ],
   "source": [
    "#TRATAR EL TEXTO Y GUARDAR EN UN PKL:\n",
    "from pickle import load\n",
    "from pickle import dump\n",
    "from numpy.random import shuffle\n",
    "import string\n",
    "import re\n",
    "from unicodedata import normalize\n",
    "from numpy import array\n",
    "import numpy as np\n",
    "from numpy import argmax\n",
    "#KERAS PARA EL MODELO:\n",
    "from keras.preprocessing.text import Tokenizer\n",
    "from keras.preprocessing.sequence import pad_sequences\n",
    "from keras.utils import to_categorical\n",
    "from keras.utils.vis_utils import plot_model\n",
    "from keras.models import Sequential\n",
    "from keras.layers import LSTM\n",
    "from keras.layers import Dense\n",
    "from keras.layers import Embedding\n",
    "from keras.layers import RepeatVector\n",
    "from keras.layers import TimeDistributed\n",
    "from keras.callbacks import ModelCheckpoint\n",
    "#PARA CARGAREL MODELO:\n",
    "from keras.models import load_model\n",
    "from nltk.translate.bleu_score import corpus_bleu"
   ]
  },
  {
   "cell_type": "code",
   "execution_count": 3,
   "metadata": {},
   "outputs": [],
   "source": [
    "# carga doc en la memoria\n",
    "def cargar_doc(filename):\n",
    "    # abrir el archivo como de sólo lectura\n",
    "    file = open(filename, mode='rt', encoding='utf-8')\n",
    "    # leer todo el texto\n",
    "    text = file.read()\n",
    "    # cerrar el archivo\n",
    "    file.close()\n",
    "    return text"
   ]
  },
  {
   "cell_type": "code",
   "execution_count": 4,
   "metadata": {},
   "outputs": [],
   "source": [
    "# dividir un documento cargado en oraciones\n",
    "def crea_pares(doc):\n",
    "    #Separa cada salto de linea:\n",
    "    lines = doc.strip().split('\\n')\n",
    "    #Separa cada que se encuentre un tabulador en una lista otra lista con \n",
    "    #el texto en ingles y en italiano en tipo pares:\n",
    "    pares = [line.split('\\t') for line in lines]\n",
    "    return pares"
   ]
  },
  {
   "cell_type": "code",
   "execution_count": 5,
   "metadata": {},
   "outputs": [],
   "source": [
    "# limpiar una lista de líneas\n",
    "def limpiar_pares(lines):\n",
    "    cleaned = list()\n",
    "    # preparar a regex para el filtrado de caracteres\n",
    "    re_punc = re.compile('[%s]'% re.escape(string.punctuation))\n",
    "    re_print = re.compile('[^%s]'% re.escape(string.printable))\n",
    "    for pair in lines:\n",
    "        clean_pair = list()\n",
    "        for line in pair:\n",
    "            # normalizar los caracteres unicode\n",
    "            line = normalize('NFD', line).encode('ascii','ignore')\n",
    "            line = line.decode('UTF-8')\n",
    "            # tokenize en espacio en blanco\n",
    "            line = line.split()\n",
    "            # convertir a minúsculas\n",
    "            line = [word.lower() for word in line]\n",
    "            # eliminar la puntuación de cada token\n",
    "            line = [re_punc.sub('', w) for w in line]\n",
    "            # eliminar caracteres no imprimibles de cada token\n",
    "            line = [re_print.sub('', w) for w in line]\n",
    "            # eliminar tokens con números en ellos\n",
    "            line = [word for word in line if word.isalpha()]\n",
    "            # store como cadena\n",
    "            clean_pair.append(' '.join(line))\n",
    "        cleaned.append(clean_pair)\n",
    "    return array(cleaned)"
   ]
  },
  {
   "cell_type": "code",
   "execution_count": 6,
   "metadata": {},
   "outputs": [],
   "source": [
    "#guardar una lista de oraciones limpias para archivar\n",
    "def guarda_datos_limpios(lineas, filename):\n",
    "    dump(lineas, open(filename,'wb'))\n",
    "    print('Saved: %s'% filename)"
   ]
  },
  {
   "cell_type": "code",
   "execution_count": 7,
   "metadata": {},
   "outputs": [],
   "source": [
    "#Cargar un conjunto de datos limpio\n",
    "def cargar_datos_limpios(filename):\n",
    "    return load(open(filename,'rb'))"
   ]
  },
  {
   "cell_type": "code",
   "execution_count": 9,
   "metadata": {},
   "outputs": [
    {
     "name": "stdout",
     "output_type": "stream",
     "text": [
      "Saved: ingles-italiano-train.pkl\n",
      "Saved: ingles-test.pkl\n",
      "[we therefore respect whatever parliament may decide] => [quindi noi rispettiamo le eventuali decisioni in materia del parlamento]\n",
      "[but i would also like to make it very clear that president prodi made a commitment to this parliament to introduce a new debate as mr baron crespo has reminded us which would be in addition to the annual debate on the commission s legislative programme on the broad areas of action for the next five years that is to say for this legislature] => [ma voglio dire altrettanto chiaramente che il presidente prodi si e impegnato con il parlamento a inserire un nuovo dibattito come ha ricordato l onorevole baron oltre al dibattito annuale sul programma legislativo della commissione sulle grandi linee di azione per il prossimo quinquennio cioe per la presente legislatura]\n",
      "[madam president i would like to say that the agreement reached in september distinguished this debate from the annual presentation of the commission s legislative programme] => [tengo a sottolineare signora presidente che secondo l accordo concluso nel settembre scorso questo dibattito era distinto dalla presentazione del programma legislativo della commissione]\n",
      "[i would also like to say that the commission is prepared and ready to hold this debate whenever it is convenient and that we were ready to do so this week as we had agreed originally on the basis that it would be presented the day before in a speech to parliamentary groups] => [e desidero far sapere che per quanto riguarda la commissione siamo pronti e disposti a tenere questo dibattito quando lo si ritenga opportuno eravamo gia pronti a farlo questa settimana conformemente all accordo iniziale sulla base dell intesa di una presentazione del discorso ai gruppi parlamentari il giorno prima]\n",
      "[therefore madam president i would like to repeat that the commission has debated the action plan for the next five years and when parliament decides this week if that is the decision we are prepared to come and explain the programme for the next five years and next month the programme for which is what we fully agreed upon] => [quindi signora presidente ribadisco che da parte nostra abbiamo discusso del programma di azione per il prossimo quinquennio e che siamo pronti a presentarlo quando vuole il parlamento anche questa settimana se decide il tal senso mentre il mese prossimo tocchera al programma per il esattamente come era stato stabilito]\n",
      "[madam president i can hear a ripple of laughter from the socialists] => [signora presidente sento qualche risata fra i socialisti]\n",
      "[i was told that large sections of the socialist group were also keen to have this item taken off the agenda because at the vote in the conference of presidents no vote was received from the working group of members of the socialist group responsible for this matter] => [mi e stato detto che anche una parte cospicua del gruppo socialista vorrebbe che questo punto venisse ritirato dallordine del giorno in quanto nella votazione in sede di conferenza dei presidenti e mancato il voto del gruppo di lavoro dei colleghi competenti del gruppo socialista]\n",
      "[i do not know whether this information is correct but the ppede group would in any case be grateful if this item were removed because parliament has addressed this issue several times already] => [non so se questa informazione sia corretta ma noi del ppede saremmo comunque grati se il suddetto punto venisse eliminato visto che il parlamento si e gia occupato ripetutamente della questione]\n",
      "[decisions have also been adopted against a tax of this kind] => [esistono anche alcune decisioni contro tale imposta]\n",
      "[that is why my group moves that this item be taken off the agenda] => [per questa ragione il gruppo del ppede chiede che il punto in questione venga ritirato dallordine del giorno]\n",
      "[thank you mr poettering] => [la ringrazio onorevole poettering]\n",
      "[we shall now hear mr wurtz speaking against this request] => [ha facolta l onorevole wurtz che interviene contro la richiesta]\n",
      "[madam president i would firstly like to point out mr poettering s lack of logic he has just been preaching to the group of the party of european socialists because they went back on a decision taken in a perfectly clear manner at the conference of presidents and now he is doing just the same] => [signora presidente vorrei innanzi tutto sottolineare la mancanza di logica da parte dell onorevole poettering che ha appena fatto la morale al gruppo socialista per essere tornato su una decisione approvata dalla conferenza dei presidenti con una netta maggioranza]\n",
      "[we discussed that matter and we were unanimous with the exception of the ppe and eldr groups] => [ebbene egli ha fatto la stessa cosa si era discusso e tutti si erano detti d accordo tranne il gruppo ppede e il gruppo eldr]\n",
      "[as my fellow chairmen will recall i even mentioned that it was not a matter of knowing whether one was for or against the tobin tax but of whether one dared to hear what the commission and the council thought of it] => [in tale circostanza gli onorevoli colleghi presidenti lo ricorderanno avevo altresi sottolineato che il punto non era tanto sapere se siamo a favore o contro la tassa tobin ma se abbiamo il coraggio di ascoltare che cosa ne pensano la commissione e il consiglio]\n",
      "[it is not a lot to ask] => [non e chiedere molto]\n",
      "[i therefore repeat the proposal that this oral question to the commission and the council should be retained so that we can find out once and for all the positions of these two bodies regarding the proposal which is relatively modest but which would give a clear message to public opinion particularly after the tide of feeling generated by the failure of the seattle conference] => [pertanto reitero la proposta di mantenere all ordine del giorno l interrogazione orale al consiglio e alla commissione per apprendere una volta per tutte la posizione delle due istituzioni su una proposta relativamente modesta ma che lancerebbe un segnale importante all opinione pubblica soprattutto sull onda dell emozione suscitata dal fallimento della conferenza di seattle]\n",
      "[we shall proceed to vote on the ppede group s request that the oral question regarding the capital tax be withdrawn from the agenda] => [pongo ora in votazione la richiesta del gruppo ppede intesa a ritirare dall ordine del giorno l interrogazione orale sull imposta patrimoniale]\n",
      "[parliament rejected the request with votes for votes against and abstentions] => [il parlamento respinge la richiesta con voti favorevoli contrari e astenuti]\n",
      "[madam president i would like to thank mr poettering for advertising this debate] => [signora presidente ringrazio l onorevole poettering per l inaspettata pubblicita che ha appena dato a questa discussione]\n",
      "[thank you very much] => [grazie]\n",
      "[madam president has my vote been counted i was unable to vote electronically since i do not have a card] => [signora presidente e stato contato il mio voto che non e stato deposto elettronicamente perche non ho la scheda]\n",
      "[my vote was in favour] => [il mio voto era favorevole]\n",
      "[indeed if we add the two members who have declared themselves then the result of the vote would be] => [in effetti se aggiungiamo i voti dei due colleghi che sono intervenuti il risultato]\n",
      "[madam president the presidency has already declared the result of the vote] => [signora presidente la presidenza ha gia annunciato l esito della votazione]\n",
      "[there is no room for amendments] => [non sono ammesse modifiche]\n",
      "[madam president in the earlier vote and i will abide by your ruling on this matter on the question of the strategic plan of the commission i indicated that i would like to speak in advance of the vote on behalf of my group that did not happen] => [signora presidente premetto che rispettero la sua decisione ma durante la votazione precedente sulla questione del piano strategico della commissione avevo manifestato lintenzione di intervenire a nome del mio gruppo prima della votazione ma non ne ho avuto la possibilita]\n",
      "[i would appreciate it if on the close of this item of business i might be allowed to give an explanation of vote on behalf of my group] => [le sarei molto grato se prima di chiudere questo punto allordine del giorno mi permettesse di rilasciare una dichiarazione di voto a nome del mio gruppo]\n",
      "[this is an important matter it would be useful for the record of the house to state how people perceive what we have just done in the light of their own political analysis] => [si tratta di una cosa importante e sarebbe utile poter mettere a verbale il motivo del nostro comportamento al momento della votazione alla luce della nostra analisi politica]\n",
      "[madam president i do not wish to reopen the debate but i had also asked for the floor to comment on mr baron crespos motion] => [signora presidente non e mia intenzione riprendere la discussione ma anchio avevo chiesto di intervenire per prendere posizione sulla richiesta dellonorevole baron crespo]\n",
      "[you did not call me either] => [lei non mi ha dato la parola]\n",
      "[i regret this but the vote has already been taken and the decision is made so let us leave the matter there] => [ne sono spiacente anche se ormai la votazione e gia stata effettuata la decisione presa e quindi la questione e da considerarsi chiusa]\n",
      "[i am terribly sorry mr hansch and mr cox i did not see you asking to speak] => [me ne dispiace onorevoli hnsch e cox non mi ero accorta che avevate chiesto la parola]\n",
      "[even so i think the positions are quite clear and they shall be entered in the minutes] => [comunque mi pare che le posizioni siano chiare e saranno riportate al processo verbale]\n",
      "[when we adopt the minutes for today s sitting tomorrow then any members who think the positions have not been explained clearly enough may ask for amendments] => [quando domani approveremo il processo verbale della seduta odierna i colleghi che dovessero ritenerlo inadeguato potranno chiedere che esso venga modificato]\n",
      "[this seems to me to be a workable solution] => [mi pare una buona soluzione]\n",
      "[of course the minutes for tomorrow s sitting will take into account any additional explanations] => [evidentemente il processo verbale della seduta di domani riportera tutte le eventuali dichiarazioni complementari]\n",
      "[i think this is a better solution than proceeding now to extremely timeconsuming explanations of votes] => [mi pare una formula migliore piuttosto che procedere ora alle dichiarazioni di voto che ci porterebbero molto lontano]\n",
      "[mr cox mr hansch would this be acceptable to you] => [onorevole cox onorevole hnsch siete d accordo]\n",
      "[madam president if the vote records correctly how my group voted i shall not and cannot object to that] => [signora presidente se il verbale rispecchiera correttamente il voto del mio gruppo non avro alcuna obiezione]\n",
      "[if your ruling is that i cannot give an explanation of vote i accept that but with reservations] => [ma se la sua decisione implica che non posso rilasciare una dichiarazione di voto la accetto con delle riserve]\n",
      "[we shall pay particular attention to the wording of the minutes as we always do of course] => [faremo molta attenzione allora alla redazione del processo verbale come per altro facciamo sempre]\n",
      "[if they do not properly reflect the positions adopted then we may correct them if necessary] => [se esso non riflettera correttamente le posizioni potra essere modificato]\n",
      "[the order of business was adopted thus amended] => [il parlamento approva l ordine del giorno cosi modificato]\n",
      "[safety advisers for the transport of dangerous goods] => [consulenti per la sicurezza dei trasporti di merci pericolose]\n",
      "[the next item is the report a by mr koch on behalf of the committee on regional policy transport and tourism on the common position adopted by the council with a view to adopting a european parliament and council directive on the harmonisation of examination requirements for safety advisers for the transport of dangerous goods by road rail or inland waterways c cod] => [l ordine del giorno reca la discussione sulla relazione a presentata dall on koch a nome della commissione per la politica regionale i trasporti e il turismo sulla posizione comune definita dal consiglio in vista dell adozione della direttiva del parlamento europeo e del consiglio relativa alle prescrizioni minime applicabili all esame di consulente per la sicurezza dei trasporti su strada per ferrovia e per via navigabile di merci pericolose c cod]\n",
      "[madam president we cannot and must not accept the fact that we hear ever more frequently of accidents causing major damage on our roads but also on our railways and waterways not solely but at least partly because those involved do not take the transport of dangerous goods seriously enough or because as a result of ignorance or a lack of training on the part of the drivers or others responsible for the various vehicles a minor accident has all too often become a major disaster] => [signora presidente non possiamo e non dobbiamo rassegnarci al continuo aumento degli incidenti che si verificano nel trasporto su strada per ferrovia e sulle vie navigabili con gravi danni dovuti non solo ma anche al fatto che il personale addetto non si occupa con sufficiente coscienziosita del trasporto delle merci pericolose accade inoltre che per ignoranza o insufficiente preparazione dei conducenti o di altri addetti ai vari mezzi di trasporto un piccolo incidente si trasformi in una sciagura di grandi proporzioni]\n",
      "[as an austrian i still have a vivid memory as i believe we all do of the catastrophe which cost so many human lives last year in the tauern tunnel where subsequent work to rebuild the parts of the tunnel which had been destroyed in this fire continued for many months at huge expense] => [essendo austriaco mi e rimasta impressa vivamente nella memoria ma credo lo stesso valga per tutti noi la sciagura del tunnel nei monti tauri che e costata la vita a tante persone e in cui solo dopo molti mesi e con un enorme sforzo finanziario si e potuto ricostruire quanto era andato distrutto allinterno del tunnel a causa dellincendio]\n",
      "[the renovation project which lasted for months cut off this important route between the north and south of europe] => [i lavori di ricostruzione durati mesi hanno provocato l interruzione del transito in questa importante arteria di comunicazione fra il nord e il sud delleuropa]\n",
      "[the traffic which had to be diverted because of this stretched the patience of many thousands of people in the eu to the limit] => [la deviazione del traffico resasi necessaria ha causato disagi ai limiti della tollerabilita a migliaia di cittadini dellunione europea]\n",
      "[in fact all hell broke loose in some municipalities in my province] => [per alcuni comuni del mio paese la situazione e stata veramente infernale]\n",
      "[prevention has to be our answer to disasters of this kind and this draft directive is an important step towards welltrained safety advisers being available so that the right action is taken in good time] => [la nostra risposta a incidenti di questo genere deve essere la prevenzione e il progetto di direttiva oggi in discussione rappresenta un importante presupposto per assicurare unadeguata formazione ai consulenti per la sicurezza affinche si intervenga nel modo e nel momento opportuno]\n",
      "[all the same we must not content ourselves with enacting european law to ensure greater safety] => [certamente non possiamo accontentarci di creare una normativa europea volta a elevare il grado di sicurezza]\n",
      "[we also need to follow this up and make sure that our rules are transposed by the member states in good time and even more importantly we need to ensure that they are also applied afterwards] => [dobbiamo anche assicurarci che le norme introdotte vengano recepite puntualmente dagli stati membri e ancor piu che esse vengano infine applicate]\n",
      "[please let this not be yet another sector where we subsequently have to lament the lack of enforcement] => [evitiamo per favore che si aggiunga un ulteriore ambito in cui si finisca con il dover denunciare le carenze nellapplicazione]\n",
      "[i should like to address one final point] => [vorrei infine soffermarmi su un ultimo punto]\n",
      "[we must not content ourselves with sealing another hole in the safety net and shutting our eyes to the fact that where transport safety in europe is concerned there is still much more to be done] => [non dobbiamo accontentarci di colmare unaltra lacuna nella rete di sicurezza chiudendo gli occhi sul fatto che resta da fare molto di piu in materia di sicurezza nel settore dei trasporti in europa]\n",
      "[in this context i should like to make a request and ask the commissioner responsible who is with us here today to table an appropriate text as soon as possible with a view to continuing to make it safer for traffic to transit tunnels in the future so that we in europe do not have to experience any more such disasters on this scale] => [a tale proposito chiedo alla signora commissario competente e qui presente di presentare al piu presto una proposta in merito affinche in futuro si possa garantire maggiore sicurezza nei trasporti in galleria per non dover piu assistere in europa a sciagure di tale gravita]\n",
      "[madam president first of all i should like to thank mr koch for his report which has at its heart the issue of transport safety the report looks at the issue of harmonising the examination requirements for safety advisors working in the areas of transportation of dangerous goods by road rail and inland waterway] => [signora presidente innanzi tutto voglio ringraziare lonorevole koch per la sua relazione incentrata sul tema della sicurezza dei trasporti e in particolare sullarmonizzazione delle prescrizioni applicabili all esame di consulente per la sicurezza dei trasporti di merci pericolose su strada ferrovia o vie navigabili interne]\n",
      "[i congratulate him on his excellent report] => [mi congratulo con lui per leccellente relazione]\n",
      "[transport safety has sadly been in the news recently the paddington rail crash in london the terrible rail crash in norway the two aviation crashes involving eu citizens and the natural disaster involving the erika off brittany all within the last four months remind us that transport safety can never be taken for granted and that those charged with protecting the public must be highly motivated and highly qualified] => [di recente il tema della sicurezza dei trasporti e stato tristemente al centro dellattenzione dei mass media con lincidente ferroviario alla stazione di paddington a londra il terribile incidente ferroviario in norvegia i due incidenti aerei in cui hanno perso la vita alcuni cittadini dell unione e il disastro ecologico provocato dalla petroliera erika al largo della costa bretone tutti questi incidenti si sono verificati negli ultimi quattro mesi e ci ricordano che la sicurezza dei trasporti non puo mai essere data per scontata e che i responsabili della protezione dei cittadini devono essere altamente motivati e qualificati]\n",
      "[the rapporteur has pointed out to the house that in its common position the council has accepted six of parliaments ten amendments put forward at first reading and that the substance of parliaments other amendments has been retained] => [il relatore sottolinea che nella sua posizione comune il consiglio ha accolto sei dei dieci emendamenti presentati dal parlamento in prima lettura e ha ripreso il senso dei quattro restanti]\n",
      "[my group will therefore support the common position and looks forward to the enactment of the legislation which will provide us with yet another tool in our fight to make transport in the european union as safe as possible] => [pertanto il mio gruppo intende votare a favore della suddetta posizione comune e auspica quanto prima lattuazione della legislazione che ci dotera di un ulteriore strumento per rendere i trasporti nellunione europea il piu sicuri possibile]\n",
      "[when it comes to safety my group will always support any initiatives to improve transport safety] => [il mio gruppo sara sempre a favore di qualsiasi iniziativa volta a migliorare la sicurezza dei trasporti]\n",
      "[we still have a lot of work to do in this area as recent events have proved] => [il lavoro da svolgere in questo settore e ancora molto come hanno dimostrato gli eventi verificatisi recentemente]\n",
      "[madam president i would like to make a few comments] => [signora presidente mi permetta di formulare un paio di osservazioni]\n",
      "[i would like first of all to thank the rapporteur for his exceptionally accurate and technical work on the report and secondly the commission for the proposal it has submitted] => [ringrazio innanzi tutto il relatore per il suo lavoro estremamente preciso e tecnico sul fascicolo in parola e in secondo luogo la commissione per la proposta presentata]\n",
      "[we are concerned here with the harmonisation of examination requirements but also in fact with minimum requirements this is a pity in a sense] => [la proposta concerne larmonizzazione dei requisiti desame tuttavia in realta parla anche di norme minime cosa che io in un certo senso deploro]\n",
      "[needless to say safety on roads railways and inland waterways is of key importance and given the international nature of these types of transport training for safety advisors should also be harmonised therefore as well as the requirements of the new adr for example which is under way] => [limportanza della sicurezza dei trasporti stradali ferroviari e per vie navigabili interne e indubbia e dato il carattere internazionale di questo tipo di trasporti anche i corsi di formazione per i consulenti per la sicurezza devono essere armonizzati come ad esempio per il prossimo nuovo adr]\n",
      "[this is important but so is enforcement and there are of course a number of reasons why we need to pay particular attention to this] => [tutto cio e importante ma altrettanto essenziale e lattuazione delle norme vigenti]\n",
      "[just think of the road accidents which have occurred over recent years for example in belgium the netherlands and a number of other countries where lorries carrying dangerous goods continued to drive in foggy conditions when really they should have pulled off the road instead] => [ci sono diversi motivi per dedicare attenzione a questo aspetto basti guardare quanti incidenti si sono prodotti negli anni scorsi in caso di nebbia in belgio o in olanda o in altri paesi tanti sono gli incidenti in cui sono rimasti coinvolti camion che trasportavano merci pericolose e che in tali condizioni meteorologiche non avrebbero dovuto viaggiare invece di trovarsi tranquillamente sulle strade]\n",
      "[or ships from eastern europe which moor adjacent to ships over here with all the obvious risks that this entails] => [oppure pensiamo alle navi provenienti dai paesi delleuropa orientale che navigano in condizioni chiaramente pericolose]\n",
      "[furthermore it has transpired that research in the ports in belgium finland but also in japan has shown that of containers with partially dangerous cargo are not delivered correctly for shipment] => [da indagini condotte nei porti belgi finlandesi e anche giapponesi e altresi emerso che il percento dei container contenenti in parte merci pericolose non viene consegnato nel rispetto delle norme vigenti]\n",
      "[in short the issue is an important one] => [in breve limportanza del tema e enorme]\n",
      "[if we look at the situation where safety advisers are concerned in a number of countries it is compulsory to employ such safety advisers in companies as from january of this year] => [per quanto attiene alla situazione dei consulenti per la sicurezza in alcuni stati membri a partire dal gennaio di questanno le aziende devono obbligatoriamente averne uno interno]\n",
      "[there will be major problems with enforcing this rule at present especially with smaller companies as these cannot afford safety advisors] => [attualmente i problemi creati da questa norma sono molti soprattutto per le aziende piu piccole che non dispongono di mezzi finanziari sufficienti]\n",
      "[these smaller companies either dispose of their cargo or mix it with other cargo which causes problems] => [di conseguenza tali aziende sono costrette a rinunciare al loro carico oppure a mescolarlo ad un altro carico con i seri problemi che cio genera]\n",
      "[it is therefore also being requested that iso certificates possibly include the finer details of these activities in the form of annual reports and company analyses] => [per tale motivo si chiede alle aziende di integrare tali attivita nei rendiconti finanziari oppure nelle analisi aziendali da inserire eventualmente in certificazioni iso]\n",
      "[the work is done all that remains is the business of enforcement] => [il quadro normativo e pronto adesso dobbiamo occuparci della sua attuazione]\n",
      "[i would like to mention one final point] => [permettetemi di indicare un ultimo punto sempre concernente lapplicazione delle norme]\n",
      "[with regard to enforcement proper agreements must also be concluded with the eastern european countries because they will not enter into treaties which deal with this matter until july that is to say in eighteen months time] => [occorre formulare degli accordi soddisfacenti con i paesi delleuropa orientale dato che essi aderiranno ai trattati in materia solo a partire dal luglio cioe soltanto fra un anno e mezzo]\n",
      "[this gives them a competitive edge for the interim period] => [tali paesi adesso godono di un leggero vantaggio concorrenziale il che non e grave]\n",
      "[this is not in itself anything dreadful but we should prioritise particularly the safety aspects for goods transported by road rail and inland waterways and incorporate these as part of the acquis communautaire as soon as possible and present them to the acceding states] => [tuttavia io credo che si debba dare la precedenza agli aspetti che riguardano la sicurezza dei trasporti stradali ferroviari e per vie navigabili interne e presentare tempestivamente questa parte dellacquis comunitario ai paesi candidati alladesione]\n",
      "[madam president the importance of transport safety is highlighted on a regular basis in this parliament and rightly so] => [signora presidente in questo parlamento a ragione per altro si pone regolarmente in risalto limportanza della sicurezza dei trasporti]\n",
      "[the ever increasing volume of goods passing through europe entails all kinds of risks known and unknown for employees and the social environment] => [i volumi sempre crescenti di merci che attraversano leuropa comportano consapevolmente o meno rischi di tutti i generi per il personale lambiente e la societa]\n",
      "[those having to deal with these risks should therefore meet stringent requirements] => [pertanto coloro che devono gestire i suddetti rischi devono soddisfare requisiti molto rigorosi]\n",
      "[the relevant standards which have been laid down in another directive ec seem sufficiently adequate to advise people in a responsible manner on the organisation of the transport of dangerous goods] => [le norme sancite in unaltra direttiva la direttiva ce paiono sufficientemente adeguate per fornire una consulenza responsabile sullorganizzazione dei trasporti di merci pericolose]\n",
      "[i am very pleased that agreement has also been reached with the council on minimum standards regarding examinations although i would have preferred it if uniform set standards and modules had been established so that certificates would be of equal value internationally] => [mi rallegro che si sia raggiunta unintesa con il consiglio in materia di requisiti minimi per gli esami dei consulenti per la sicurezza sebbene avrei preferito che fossero stati formulati norme e programmi uniformi atti a garantire l uguaglianza dei diplomi a livello internazionale]\n",
      "[this however does not seem feasible] => [tuttavia pare che il mio sia solo un pio desiderio]\n",
      "[finally the amendment tabled by the rapporteur is perfectly logical and i can therefore give it my wholehearted support] => [infine lemendamento proposto dal relatore e piu che logico e pertanto puo contare su tutto il mio appoggio]\n",
      "[mr president commissioner i should first like to congratulate mr koch on his reports which though technical are nonetheless of very great significance for safety] => [signor presidente signora commissario onorevoli colleghi innanzi tutto vorrei congratularmi con l onorevole koch per le relazioni presentate pur trattandosi di relazioni di carattere tecnico rivestono grande importanza dal punto di vista della sicurezza]\n",
      "[i should like to make just a few comments] => [mi limitero a poche considerazioni]\n",
      "[firstly i should like to ask the commissioner and i am convinced that my request will fall on fertile ground to ensure that more attention is paid to the issue of safety be it on the roads on the waterways or at sea] => [in primo luogo vorrei pregare la signora commissario e sono convinto che la mia richiesta trovera un terreno fertile di adoperarsi affinche venga dedicata maggiore attenzione alla questione della sicurezza nei trasporti su strada nonche nella navigazione marittima e nelle acque interne]\n",
      "[considering that it is only today that we are dealing with a commission proposal first made on march even though parliament responded relatively quickly this time lag is a little too long] => [constatando che la prima proposta della commissione e stata presentata il marzo e che oggi ce ne stiamo ancora occupando benche il parlamento si sia attivato con una certa tempestivita devo far rilevare che si e proceduto con eccessiva lentezza]\n",
      "[this is not just the fault of the commission but i believe that we need to take action more quickly so as to achieve harmonisation in this area as well] => [cio non va imputato soltanto alla commissione ma credo che dobbiamo attivarci piu rapidamente per giungere a unarmonizzazione anche in questo ambito]\n",
      "[my second point has already been mentioned it concerns the minimum standards] => [il secondo punto e gia stato ricordato e riguarda le norme minime]\n",
      "[in principle i believe that in many cases where transport is concerned we should be working towards increased flexibility and countryspecific rules] => [in generale sono dellidea che in numerosi settori allinterno dei trasporti sarebbero auspicabili una maggiore flessibilita e normative nazionali]\n",
      "[however when it comes to safety i am rather sceptical because safety in sweden for example is in principle no different from safety in germany italy or austria] => [per quanto riguarda la sicurezza invece sono piuttosto scettico in quanto la sicurezza in svezia non e sostanzialmente diversa dalla sicurezza in germania in italia o in austria]\n",
      "[i can live with these minimum standards but i would ask the commission to monitor the situation very carefully] => [posso anche accettare queste norme minime ma esorto la commissione a esercitare unattenta sorveglianza]\n",
      "[should flexibility of this kind result in there being inadequate rules in some countries then we should work towards greater harmonisation] => [nel caso in cui questo tipo di flessibilita dovesse dare adito a uninsufficiente regolamentazione in alcuni paesi occorrera procedere a una ulteriore armonizzazione]\n"
     ]
    }
   ],
   "source": [
    "#DATOS DE ENTRENAMIENTO:\n",
    "#Cargar conjunto de datos de entrenamiento:\n",
    "texto = cargar_doc(r'C:\\Users\\fernando\\Desktop\\PLN Traductor\\Final3\\data3.test')\n",
    "texto2 = cargar_doc(r'C:\\Users\\fernando\\Desktop\\PLN Traductor\\Final3\\data3.eval')\n",
    "#Dividirlo en parejas ingles-italiano:\n",
    "pares = crea_pares(texto)\n",
    "pares2 = crea_pares(texto2)\n",
    "#Limpiar esas oraciones:\n",
    "pares_limpios = limpiar_pares(pares)\n",
    "#Guardar pares limpios en un archivo\n",
    "guarda_datos_limpios(pares_limpios,'ingles-italiano-train.pkl')\n",
    "guarda_datos_limpios(pares2,'ingles-test.pkl')\n",
    "#Control al azar\n",
    "for i in range(100):\n",
    "    print('[%s] => [%s]'% (pares_limpios[i,0], pares_limpios[i,1]))"
   ]
  },
  {
   "cell_type": "code",
   "execution_count": 10,
   "metadata": {},
   "outputs": [],
   "source": [
    "#DATOS DE PRUEBA:\n",
    "#Cargar conjunto de datos de entrenamiento:\n",
    "#texto_prueba = cargar_doc(r'C:\\Users\\fernando\\Desktop\\PLN Traductor\\Final3\\data3.eval')\n",
    "#Dividirlo en parejas ingles-italiano:\n",
    "#lista_prueba = crea_pares(texto)\n",
    "#Limpiar esas oraciones:\n",
    "#lista_limpios_prueba = limpiar_pares(lista_prueba)\n",
    "#Guardar pares limpios en un archivo\n",
    "#guarda_datos_limpios(lista_limpios_prueba,'ingles-prueba.pkl')"
   ]
  },
  {
   "cell_type": "code",
   "execution_count": 11,
   "metadata": {},
   "outputs": [
    {
     "name": "stdout",
     "output_type": "stream",
     "text": [
      "Saved: ingles-italiano-train-f.pkl\n",
      "Saved: ingles-italiano-test.pkl\n"
     ]
    }
   ],
   "source": [
    "#Carga el conjunto de datos limpios gurdados:\n",
    "dataset = cargar_datos_limpios('ingles-italiano-train.pkl')\n",
    "#Test:\n",
    "test_f = cargar_datos_limpios('ingles-test.pkl')\n",
    "#Orden aleatorio\n",
    "shuffle(dataset)\n",
    "#Dividir en entrenamiento/prueba\n",
    "train, test = dataset[:800], dataset[800:]\n",
    "#Guardar conjuntos\n",
    "#save_clean_data(dataset,'english-german-both.pkl')\n",
    "guarda_datos_limpios(train,'ingles-italiano-train-f.pkl')\n",
    "guarda_datos_limpios(test,'ingles-italiano-test.pkl')"
   ]
  },
  {
   "cell_type": "code",
   "execution_count": 12,
   "metadata": {},
   "outputs": [],
   "source": [
    "#Cargar datos limpios y asignar variables:\n",
    "#Carga el conjunto de datos limpios gurdados:\n",
    "dataset = cargar_datos_limpios('ingles-italiano-train.pkl')\n",
    "train = cargar_datos_limpios('ingles-italiano-train_f.pkl')\n",
    "#Test:\n",
    "#test_f = cargar_datos_limpios('ingles-test.pkl')\n",
    "test = cargar_datos_limpios('ingles-italiano-test.pkl')"
   ]
  },
  {
   "cell_type": "code",
   "execution_count": 13,
   "metadata": {},
   "outputs": [],
   "source": [
    "#TRATAR LOS DATOS QUE TENEMOS:"
   ]
  },
  {
   "cell_type": "code",
   "execution_count": 14,
   "metadata": {},
   "outputs": [],
   "source": [
    "#Caben en un tokenizador\n",
    "# la clase Keras Tokenize para mapear palabras a números enteros,\n",
    "# según sea necesario para el modelado.\n",
    "# La siguiente función create_tokenizer() entrenará un \n",
    "# tokenizer en una lista de frases.\n",
    "# instalar un tokenizador:\n",
    "def crear_tokenizer(lines):\n",
    "    tokenizer = Tokenizer()\n",
    "    tokenizer.fit_on_texts(lines)\n",
    "    return tokenizer"
   ]
  },
  {
   "cell_type": "code",
   "execution_count": 15,
   "metadata": {},
   "outputs": [],
   "source": [
    "#print(dataset[:, 0])\n",
    "#ing = crear_tokenizer(dataset[:, 0])\n",
    "#ing.word_index\n",
    "\n",
    "#CREA UN DICCIONARIO CON LAS PALABRAS COMO KEYS Y UN NUMERO COMO VALUE:\n",
    "#it = crear_tokenizer(dataset[:, 1])\n",
    "\n",
    "#it.word_index\n",
    "#dict.keys(it.word_index)\n",
    "#for k,v in it.word_index.items():\n",
    "#    print (\"%s -> %s\" %(k,v))\n",
    "\n",
    "#DEL DICCIONARIO QUE SE CREA CON .WORD_INDEX ES PARA INVERTIR KEYS DE VALUES:\n",
    "#Keys = dict.keys(it.word_index)\n",
    "#Val = dict.values(it.word_index)\n",
    "#dicList = dict(zip(Val,Keys))\n",
    "#print(dicList)\n",
    "#print(dicList.get(4279))\n",
    "#print(it.word_index)"
   ]
  },
  {
   "cell_type": "code",
   "execution_count": 16,
   "metadata": {},
   "outputs": [],
   "source": [
    "# Duración máxima de la frase:\n",
    "# Econtrará la oración con el numero de palabras mayor y devuelve ese\n",
    "#numero de palabras de esa oración:\n",
    "def max_length(lines):\n",
    "    return max(len(line.split()) for line in lines)"
   ]
  },
  {
   "cell_type": "code",
   "execution_count": 17,
   "metadata": {},
   "outputs": [],
   "source": [
    "#num = []\n",
    "#for line in dataset[:, 0]:\n",
    "#    num.append(len(line.split()))\n",
    "    #print(line.split())\n",
    "#print(max(num))\n",
    "#max_length(dataset[:, 0])"
   ]
  },
  {
   "cell_type": "code",
   "execution_count": 18,
   "metadata": {},
   "outputs": [
    {
     "name": "stdout",
     "output_type": "stream",
     "text": [
      "Tamaño de Vocabulario Ingles: 3289\n",
      "Ingles Max Length: 115\n",
      "\n",
      "Tamaño de Vocabulario Italiano: 4419\n",
      "Italiano Max Lenthg: 105\n"
     ]
    }
   ],
   "source": [
    "# prepara el tokenizer en inglés\n",
    "ingles_tokenizer = crear_tokenizer(dataset[:, 0])\n",
    "ingles_vocab_size = len(ingles_tokenizer.word_index) + 1\n",
    "ingles_length = max_length(dataset[:, 0])\n",
    "print('Tamaño de Vocabulario Ingles: %d'% ingles_vocab_size)\n",
    "print('Ingles Max Length: %d'% (ingles_length))\n",
    "# Prepara el tokenizador en Italiano\n",
    "italian_tokenizer = crear_tokenizer(dataset[:, 1])\n",
    "italian_vocab_size = len(italian_tokenizer.word_index) + 1\n",
    "italian_length = max_length(dataset[:, 1])\n",
    "print('\\nTamaño de Vocabulario Italiano: %d'% italian_vocab_size)\n",
    "print('Italiano Max Lenthg: %d'% (italian_length))"
   ]
  },
  {
   "cell_type": "code",
   "execution_count": 19,
   "metadata": {},
   "outputs": [],
   "source": [
    "#Codificar:\n",
    "#x = ingles_tokenizer.texts_to_sequences(train[:, 0])\n",
    "#print(x[0])\n",
    "#xp = pad_sequences(x, maxlen=ingles_length, padding='post')\n",
    "#print(xp[0])"
   ]
  },
  {
   "cell_type": "code",
   "execution_count": 20,
   "metadata": {},
   "outputs": [],
   "source": [
    "# Codificar y secuencias de pads \n",
    "#CODIFICA DANDO LISTAS CON EL VALOR DE CADA PALABRA EN EL TOKENIZER\n",
    "#ES DECIR LA LISTA CONTIENE ORACIONES PERO LOS NUMEROS INDEXADOS CON \n",
    "#EL METODO TOKENIZER DE CADA PALABRA SON LOS QUE ESTAN EN CADA ELEMENTO DE\n",
    "#LA LISTA. POR EJEMPLO SI EN EL DIC ESTA QUE = {HOLA:1, COMO:2}\n",
    "#Y LA ORACION ES: HOLA COMO\n",
    "#AL CODIFICAR SERIA [1 2]. ES COMO UN ENCODING Y CABE MENCIONAR QUE EL TAMAÑO\n",
    "#DE ESA LISTA AL CODIFICAR SERA DEL TAMAÑO DE ORACIÓN MAS GRANDE QUE OBTUVIMOS\n",
    "#DE MAX_LENGTH.\n",
    "def encode_sequences(tokenizer, length, lines):\n",
    "    # secuencias enteras de codificación\n",
    "    #listas de oraciones donde cada elemento es el indice de cada palabra:\n",
    "    X = tokenizer.texts_to_sequences(lines) \n",
    "    # secuencias de pads con valores 0 hasta el tamaño de \n",
    "    #la oracion mas grande, acompleta el vector con ceros\n",
    "    X = pad_sequences(X, maxlen=length, padding='post')\n",
    "    return X"
   ]
  },
  {
   "cell_type": "code",
   "execution_count": 21,
   "metadata": {},
   "outputs": [],
   "source": [
    "# Una secuencia de destino codificada en caliente\n",
    "def encode_output(sequences, vocab_size):\n",
    "    ylist = list()\n",
    "    for sequence in sequences:\n",
    "        encoded = to_categorical(sequence, num_classes=vocab_size)\n",
    "        ylist.append(encoded)\n",
    "    y = array(ylist)\n",
    "    y = y.reshape(sequences.shape[0], sequences.shape[1], vocab_size)\n",
    "    return y"
   ]
  },
  {
   "cell_type": "code",
   "execution_count": 22,
   "metadata": {},
   "outputs": [],
   "source": [
    "# preparar los datos de la formación\n",
    "trainX = encode_sequences(ingles_tokenizer, ingles_length, dataset[:, 0])\n",
    "trainY = encode_sequences(italian_tokenizer, italian_length, dataset[:, 1])\n",
    "trainY = encode_output(trainY, italian_vocab_size)\n",
    "# preparar los datos de validación\n",
    "testX = encode_sequences(ingles_tokenizer, ingles_length, test[:, 0])\n",
    "testY = encode_sequences(italian_tokenizer, italian_length, test[:, 1])\n",
    "testY = encode_output(testY, italian_vocab_size)"
   ]
  },
  {
   "cell_type": "code",
   "execution_count": 23,
   "metadata": {},
   "outputs": [
    {
     "name": "stdout",
     "output_type": "stream",
     "text": [
      "(900, 115)\n"
     ]
    }
   ],
   "source": [
    "print(trainX.shape)"
   ]
  },
  {
   "cell_type": "code",
   "execution_count": 24,
   "metadata": {},
   "outputs": [
    {
     "name": "stdout",
     "output_type": "stream",
     "text": [
      "(900, 105, 4419)\n"
     ]
    }
   ],
   "source": [
    "print(trainY.shape)"
   ]
  },
  {
   "cell_type": "code",
   "execution_count": 25,
   "metadata": {},
   "outputs": [],
   "source": [
    "#trainY = encode_output(trainY, ingles_vocab_size)"
   ]
  },
  {
   "cell_type": "code",
   "execution_count": 26,
   "metadata": {},
   "outputs": [],
   "source": [
    "#print(trainY[0][0])"
   ]
  },
  {
   "cell_type": "code",
   "execution_count": 27,
   "metadata": {},
   "outputs": [],
   "source": [
    "#clas = ingles_vocab_size\n",
    "#print(clas)\n",
    "#print(trainY)\n",
    "#encode = to_categorical(trainY[0]) \n",
    "#enc = array(encode)\n",
    "#en = enc.reshape(800)\n",
    "#print(encode[0])\n",
    "\n",
    "#l = []\n",
    "#for sequence in trainY:\n",
    "    #print(sequence)\n",
    "#    encoded = to_categorical(sequence, num_classes = clas)\n",
    "#    l.append(encoded)\n",
    "#print(l[0])"
   ]
  },
  {
   "cell_type": "code",
   "execution_count": 28,
   "metadata": {},
   "outputs": [
    {
     "name": "stdout",
     "output_type": "stream",
     "text": [
      "['e', 'noto', 'che', 'finora', 'il', 'consiglio', 'si', 'e', 'rifiutato', 'di', 'approvare', 'questa', 'nuova', 'normativa']\n"
     ]
    }
   ],
   "source": [
    "#El vector se codifica en función del valor que se indexa en word_id tokenizer:\n",
    "print(train[:, 1][0].split())\n",
    "#print(len(train[:, 1][0].split()))"
   ]
  },
  {
   "cell_type": "code",
   "execution_count": 29,
   "metadata": {},
   "outputs": [],
   "source": [
    "#print(trainX[0])"
   ]
  },
  {
   "cell_type": "code",
   "execution_count": 30,
   "metadata": {},
   "outputs": [],
   "source": [
    "#print(trainY[0])"
   ]
  },
  {
   "cell_type": "code",
   "execution_count": 45,
   "metadata": {},
   "outputs": [],
   "source": [
    "# definir el modelo NMT\n",
    "def define_model(src_vocab, tar_vocab, src_timesteps, tar_timesteps, n_units):\n",
    "    model = Sequential()\n",
    "    model.add(Embedding(src_vocab, n_units, input_length=src_timesteps, mask_zero=True))\n",
    "    model.add(LSTM(n_units))\n",
    "    model.add(RepeatVector(tar_timesteps))\n",
    "    model.add(LSTM(n_units, return_sequences=True))\n",
    "    model.add(TimeDistributed(Dense(tar_vocab, activation='softmax')))\n",
    "    # compilar modelo\n",
    "    model.compile(optimizer='adam', loss='categorical_crossentropy')\n",
    "    # resumir el modelo definido\n",
    "    model.summary()\n",
    "    plot_model(model, to_file='model.png', show_shapes=True)\n",
    "    return model"
   ]
  },
  {
   "cell_type": "code",
   "execution_count": 46,
   "metadata": {},
   "outputs": [
    {
     "name": "stdout",
     "output_type": "stream",
     "text": [
      "_________________________________________________________________\n",
      "Layer (type)                 Output Shape              Param #   \n",
      "=================================================================\n",
      "embedding_1 (Embedding)      (None, 115, 256)          841984    \n",
      "_________________________________________________________________\n",
      "lstm_1 (LSTM)                (None, 256)               525312    \n",
      "_________________________________________________________________\n",
      "repeat_vector_1 (RepeatVecto (None, 105, 256)          0         \n",
      "_________________________________________________________________\n",
      "lstm_2 (LSTM)                (None, 105, 256)          525312    \n",
      "_________________________________________________________________\n",
      "time_distributed_1 (TimeDist (None, 105, 4419)         1135683   \n",
      "=================================================================\n",
      "Total params: 3,028,291\n",
      "Trainable params: 3,028,291\n",
      "Non-trainable params: 0\n",
      "_________________________________________________________________\n"
     ]
    }
   ],
   "source": [
    "#El modelo se entreno con 1000 epocas y \n",
    "# definir el modelo \n",
    "model = define_model(eng_vocab_size, ger_vocab_size, eng_length, ger_length, 256)\n",
    "# modelo adecuado\n",
    "checkpoint = ModelCheckpoint('model.h5', monitor='val_loss', verbose=1,save_best_only=True, mode='min')\n",
    "#model.fit(trainX, trainY, epochs=1000, batch_size=64, validation_data=(testX, testY),callbacks=[checkpoint], verbose=2)"
   ]
  },
  {
   "cell_type": "code",
   "execution_count": 47,
   "metadata": {},
   "outputs": [],
   "source": [
    "# asignar un número entero a una palabra\n",
    "def word_for_id(integer, tokenizer):\n",
    "    for word, index in tokenizer.word_index.items():\n",
    "        if index == integer:\n",
    "            return word\n",
    "    return None"
   ]
  },
  {
   "cell_type": "code",
   "execution_count": 48,
   "metadata": {},
   "outputs": [],
   "source": [
    "# generar la secuencia de origen del objetivo\n",
    "def predict_sequence(model, tokenizer, source):\n",
    "    prediction = model.predict(source, verbose=0)[0]\n",
    "    integers = [argmax(vector) for vector in prediction]\n",
    "    target = list()\n",
    "    for i in integers:\n",
    "        word = word_for_id(i, tokenizer)\n",
    "        if word is None:\n",
    "            break\n",
    "        target.append(word)\n",
    "    return' '.join(target)"
   ]
  },
  {
   "cell_type": "code",
   "execution_count": 49,
   "metadata": {},
   "outputs": [],
   "source": [
    "# evaluar la habilidad del modelo\n",
    "def evaluate_model(model, tokenizer, sources, raw_dataset):\n",
    "    actual, predicted = list(), list()\n",
    "    for i, source in enumerate(sources): \n",
    "        # traducir el texto fuente codificado\n",
    "        source = source.reshape((1, source.shape[0]))\n",
    "        translation = predict_sequence(model, italian_tokenizer, source)\n",
    "        raw_src, raw_target = raw_dataset[i]\n",
    "        if i < 10:\n",
    "            print('\\nsrc=[%s], \\ntarget=[%s], \\npredicted=[%s]'% (raw_src, raw_target, translation))\n",
    "            actual.append(raw_target.split())\n",
    "            predicted.append(translation.split())\n",
    "        # Calcular la puntuación BLEU\n",
    "        #print('BLEU-1: %f'% corpus_bleu(actual, predicted, weights=(1.0, 0, 0, 0)))\n",
    "        #print('BLEU-2: %f'% corpus_bleu(actual, predicted, weights=(0.5, 0.5, 0, 0)))\n",
    "        #print('BLEU-3: %f'% corpus_bleu(actual, predicted, weights=(0.3, 0.3, 0.3, 0)))\n",
    "        #print('BLEU-4: %f'% corpus_bleu(actual, predicted, weights=(0.25, 0.25, 0.25,0.25)))\n"
   ]
  },
  {
   "cell_type": "code",
   "execution_count": 60,
   "metadata": {},
   "outputs": [
    {
     "name": "stdout",
     "output_type": "stream",
     "text": [
      "\n",
      "train\n",
      "\n",
      "src=[we therefore respect whatever parliament may decide], \n",
      "target=[quindi noi rispettiamo le eventuali decisioni in materia del parlamento], \n",
      "predicted=[quindi noi rispettiamo le eventuali decisioni in materia del parlamento]\n",
      "\n",
      "src=[but i would also like to make it very clear that president prodi made a commitment to this parliament to introduce a new debate as mr baron crespo has reminded us which would be in addition to the annual debate on the commission s legislative programme on the broad areas of action for the next five years that is to say for this legislature], \n",
      "target=[ma voglio dire altrettanto chiaramente che il presidente prodi si e impegnato con il parlamento a inserire un nuovo dibattito come ha ricordato l onorevole baron oltre al dibattito annuale sul programma legislativo della commissione sulle grandi linee di azione per il prossimo quinquennio cioe per la presente legislatura], \n",
      "predicted=[ma voglio dire altrettanto altrettanto chiaramente il prodi prodi prodi impegnato impegnato impegnato il il inserire inserire con nuovo nuovo ricordato ricordato ricordato ricordato baron baron oltre oltre annuale annuale sul legislativo legislativo della della sulle grandi linee di azione azione per prossimo quinquennio quinquennio cioe la presente legislatura]\n",
      "\n",
      "src=[madam president i would like to say that the agreement reached in september distinguished this debate from the annual presentation of the commission s legislative programme], \n",
      "target=[tengo a sottolineare signora presidente che secondo l accordo concluso nel settembre scorso questo dibattito era distinto dalla presentazione del programma legislativo della commissione], \n",
      "predicted=[tengo a sottolineare signora presidente che secondo secondo accordo concluso settembre settembre scorso questo era era distinto dalla presentazione del programma legislativo della commissione]\n",
      "\n",
      "src=[i would also like to say that the commission is prepared and ready to hold this debate whenever it is convenient and that we were ready to do so this week as we had agreed originally on the basis that it would be presented the day before in a speech to parliamentary groups], \n",
      "target=[e desidero far sapere che per quanto riguarda la commissione siamo pronti e disposti a tenere questo dibattito quando lo si ritenga opportuno eravamo gia pronti a farlo questa settimana conformemente all accordo iniziale sulla base dell intesa di una presentazione del discorso ai gruppi parlamentari il giorno prima], \n",
      "predicted=[in desidero sapere sapere sapere che la la la la pronti pronti pronti disposti tenere dibattito dibattito dibattito si si si gia eravamo eravamo gia a a a farlo settimana settimana accordo iniziale iniziale base base intesa intesa una una una discorso discorso gruppi gruppi il il il il]\n",
      "\n",
      "src=[therefore madam president i would like to repeat that the commission has debated the action plan for the next five years and when parliament decides this week if that is the decision we are prepared to come and explain the programme for the next five years and next month the programme for which is what we fully agreed upon], \n",
      "target=[quindi signora presidente ribadisco che da parte nostra abbiamo discusso del programma di azione per il prossimo quinquennio e che siamo pronti a presentarlo quando vuole il parlamento anche questa settimana se decide il tal senso mentre il mese prossimo tocchera al programma per il esattamente come era stato stabilito], \n",
      "predicted=[quindi signora presidente ribadisco che che che nostra discusso discusso del del programma azione il prossimo prossimo quinquennio quinquennio siamo pronti pronti pronti presentarlo vuole vuole vuole come questa questa questa decide decide il tal tal mentre mentre mese prossimo tocchera tocchera programma per esattamente esattamente era era stato stabilito]\n",
      "\n",
      "src=[madam president i can hear a ripple of laughter from the socialists], \n",
      "target=[signora presidente sento qualche risata fra i socialisti], \n",
      "predicted=[signora presidente sento qualche risata fra i socialisti]\n",
      "\n",
      "src=[i was told that large sections of the socialist group were also keen to have this item taken off the agenda because at the vote in the conference of presidents no vote was received from the working group of members of the socialist group responsible for this matter], \n",
      "target=[mi e stato detto che anche una parte cospicua del gruppo socialista vorrebbe che questo punto venisse ritirato dallordine del giorno in quanto nella votazione in sede di conferenza dei presidenti e mancato il voto del gruppo di lavoro dei colleghi competenti del gruppo socialista], \n",
      "predicted=[mi e stato detto che che parte cospicua cospicua gruppo gruppo socialista vorrebbe vorrebbe venisse venisse venisse ritirato dallordine dallordine in in in votazione votazione di di di conferenza presidenti presidenti mancato mancato voto del del del del del dei competenti competenti del gruppo socialista]\n",
      "\n",
      "src=[i do not know whether this information is correct but the ppede group would in any case be grateful if this item were removed because parliament has addressed this issue several times already], \n",
      "target=[non so se questa informazione sia corretta ma noi del ppede saremmo comunque grati se il suddetto punto venisse eliminato visto che il parlamento si e gia occupato ripetutamente della questione], \n",
      "predicted=[non so se questa informazione informazione corretta ma del del ppede saremmo comunque grati se il suddetto punto venisse eliminato visto parlamento parlamento parlamento e e gia occupato ripetutamente della questione]\n",
      "\n",
      "src=[decisions have also been adopted against a tax of this kind], \n",
      "target=[esistono anche alcune decisioni contro tale imposta], \n",
      "predicted=[esistono anche alcune decisioni contro tale imposta]\n",
      "\n",
      "src=[that is why my group moves that this item be taken off the agenda], \n",
      "target=[per questa ragione il gruppo del ppede chiede che il punto in questione venga ritirato dallordine del giorno], \n",
      "predicted=[per questa ragione il gruppo del ppede chiede che punto punto in questione venga ritirato dallordine del giorno]\n"
     ]
    }
   ],
   "source": [
    "# conjuntos de datos de carga\n",
    "dataset = cargar_datos_limpios('ingles-italiano-train.pkl')\n",
    "#train = cargar_datos_limpios('ingles-italiano-train.pkl')\n",
    "test_f = cargar_datos_limpios('ingles-test.pkl')\n",
    "\n",
    "# prepara el tokenizer en inglés\n",
    "ingles_tokenizer = crear_tokenizer(dataset[:, 0])\n",
    "ingles_vocab_size = len(ingles_tokenizer.word_index) + 1\n",
    "ingles_length = max_length(dataset[:, 0])\n",
    "\n",
    "# Prepara el tokenizador en Italiano\n",
    "italian_tokenizer = crear_tokenizer(dataset[:, 1])\n",
    "italian_vocab_size = len(italian_tokenizer.word_index) + 1\n",
    "italian_length = max_length(dataset[:, 1])\n",
    "\n",
    "# preparar los datos\n",
    "trainX = encode_sequences(ingles_tokenizer, ingles_length, dataset[:, 0])\n",
    "#testX = encode_sequences(italian_tokenizer, italian_length, test)\n",
    "\n",
    "# modelo de carga\n",
    "#model = load_model(r'C:\\Users\\fernando\\Desktop\\PLN Traductor\\model.h5')\n",
    "model = load_model('model.h5')\n",
    "# probar con los datos de entrenamiento:\n",
    "print('\\ntrain')\n",
    "evaluate_model(model, italian_tokenizer, trainX, dataset)\n",
    "# probar en algunas secuencias de prueba\n",
    "#print('\\ntest')\n",
    "#evaluate_model(model, ingles_tokenizer, testX, test)"
   ]
  },
  {
   "cell_type": "code",
   "execution_count": 64,
   "metadata": {},
   "outputs": [
    {
     "name": "stdout",
     "output_type": "stream",
     "text": [
      "\n",
      "test\n",
      "\n",
      "src=[we therefore respect whatever parliament may decide], \n",
      "target=[quindi noi rispettiamo le eventuali decisioni in materia del parlamento], \n",
      "predicted=[quando domani approveremo il processo verbale verbale seduta odierna colleghi colleghi che dovessero ritenerlo inadeguato potranno chiedere che esso venga modificato]\n",
      "\n",
      "src=[but i would also like to make it very clear that president prodi made a commitment to this parliament to introduce a new debate as mr baron crespo has reminded us which would be in addition to the annual debate on the commission s legislative programme on the broad areas of action for the next five years that is to say for this legislature], \n",
      "target=[ma voglio dire altrettanto chiaramente che il presidente prodi si e impegnato con il parlamento a inserire un nuovo dibattito come ha ricordato l onorevole baron oltre al dibattito annuale sul programma legislativo della commissione sulle grandi linee di azione per il prossimo quinquennio cioe per la presente legislatura], \n",
      "predicted=[la relazione sulla concorrenza non rappresenta cattiva cattiva base partenza partenza ma non esiste nulla che non sia perfettibile]\n",
      "\n",
      "src=[madam president i would like to say that the agreement reached in september distinguished this debate from the annual presentation of the commission s legislative programme], \n",
      "target=[tengo a sottolineare signora presidente che secondo l accordo concluso nel settembre scorso questo dibattito era distinto dalla presentazione del programma legislativo della commissione], \n",
      "predicted=[di conseguenza ho proposto di ridurre il limite a meno quaranta gradi]\n",
      "\n",
      "src=[i would also like to say that the commission is prepared and ready to hold this debate whenever it is convenient and that we were ready to do so this week as we had agreed originally on the basis that it would be presented the day before in a speech to parliamentary groups], \n",
      "target=[e desidero far sapere che per quanto riguarda la commissione siamo pronti e disposti a tenere questo dibattito quando lo si ritenga opportuno eravamo gia pronti a farlo questa settimana conformemente all accordo iniziale sulla base dell intesa di una presentazione del discorso ai gruppi parlamentari il giorno prima], \n",
      "predicted=[inoltre esiste una normativa speciale che concede fino a milioni di euro a favore di uno stato membro la grecia]\n",
      "\n",
      "src=[therefore madam president i would like to repeat that the commission has debated the action plan for the next five years and when parliament decides this week if that is the decision we are prepared to come and explain the programme for the next five years and next month the programme for which is what we fully agreed upon], \n",
      "target=[quindi signora presidente ribadisco che da parte nostra abbiamo discusso del programma di azione per il prossimo quinquennio e che siamo pronti a presentarlo quando vuole il parlamento anche questa settimana se decide il tal senso mentre il mese prossimo tocchera al programma per il esattamente come era stato stabilito], \n",
      "predicted=[una reale concorrenza spinge infatti prezzi prezzi al ribasso e questo questo questo questo modo di livello]\n",
      "\n",
      "src=[madam president i can hear a ripple of laughter from the socialists], \n",
      "target=[signora presidente sento qualche risata fra i socialisti], \n",
      "predicted=[per tale motivo si chiede aziende aziende di integrare tali attivita nei rendiconti finanziari oppure nelle nelle aziendali da inserire eventualmente in certificazioni iso]\n",
      "\n",
      "src=[i was told that large sections of the socialist group were also keen to have this item taken off the agenda because at the vote in the conference of presidents no vote was received from the working group of members of the socialist group responsible for this matter], \n",
      "target=[mi e stato detto che anche una parte cospicua del gruppo socialista vorrebbe che questo punto venisse ritirato dallordine del giorno in quanto nella votazione in sede di conferenza dei presidenti e mancato il voto del gruppo di lavoro dei colleghi competenti del gruppo socialista], \n",
      "predicted=[a dispetto di di di invece invece ci ostiniamo indebolire indebolire ulteriormente ulteriormente il pubblico ci ci diciamo pronti pronti rendere a rigida rigida rigida concorrenza concorrenza concorrenza considerando stregua stregua di sussidi di persino persino commesse commesse pubbliche effettuate presso aziende pubbliche]\n",
      "\n",
      "src=[i do not know whether this information is correct but the ppede group would in any case be grateful if this item were removed because parliament has addressed this issue several times already], \n",
      "target=[non so se questa informazione sia corretta ma noi del ppede saremmo comunque grati se il suddetto punto venisse eliminato visto che il parlamento si e gia occupato ripetutamente della questione], \n",
      "predicted=[ce pero un aspetto specifico desidero desidero affrontare adesso la trasparenza e lobbligo di rendere conto sono strettamente legati fra loro]\n",
      "\n",
      "src=[decisions have also been adopted against a tax of this kind], \n",
      "target=[esistono anche alcune decisioni contro tale imposta], \n",
      "predicted=[cio detto tuttavia da isolano quale sono tengo a denunciare la scarsa attenzione prestata alla problematica dello sviluppo insulare]\n",
      "\n",
      "src=[that is why my group moves that this item be taken off the agenda], \n",
      "target=[per questa ragione il gruppo del ppede chiede che il punto in questione venga ritirato dallordine del giorno], \n",
      "predicted=[l ordine del giorno reca la relazione relazione relazione berend berend nome nome nome per per politica politica regionale regionale il e e turismo sulla sesta sesta periodica relativa relativa situazione socioeconomica socioeconomica allo allo sviluppo delle dell unione unione sec sec c cos]\n"
     ]
    }
   ],
   "source": [
    "#print(test[0])\n",
    "test = cargar_datos_limpios('ingles-italiano-test.pkl')\n",
    "testX = encode_sequences(ingles_tokenizer, ingles_length, test[:, 0])\n",
    "print('\\ntest')\n",
    "evaluate_model(model, italian_tokenizer, testX, dataset)"
   ]
  },
  {
   "cell_type": "code",
   "execution_count": 89,
   "metadata": {},
   "outputs": [],
   "source": [
    "# evaluar la habilidad del modelo\n",
    "def evaluate_model_prueba(model, tokenizer, sources):\n",
    "    predicted = list()\n",
    "    for i, source in enumerate(sources): \n",
    "        # traducir el texto fuente codificado\n",
    "        source = source.reshape((1, source.shape[0]))\n",
    "        translation = predict_sequence(model, italian_tokenizer, source)\n",
    "        #raw_src, raw_target = raw_dataset[i]\n",
    "        #print('\\npredicted=[%s]'% (translation))\n",
    "        #actual.append(raw_target.split())\n",
    "        predicted.append(translation.split())\n",
    "    print(predicted)\n",
    "    #print(i)"
   ]
  },
  {
   "cell_type": "code",
   "execution_count": 95,
   "metadata": {},
   "outputs": [
    {
     "name": "stdout",
     "output_type": "stream",
     "text": [
      "[['quindi', 'noi', 'rispettiamo', 'le', 'eventuali', 'decisioni', 'in', 'materia', 'del', 'parlamento']]\n"
     ]
    }
   ],
   "source": [
    "prueba =['we therefore respect whatever parliament may decide']\n",
    "prueba2 = encode_sequences(ingles_tokenizer, ingles_length, prueba)\n",
    "#print(prueba2)\n",
    "evaluate_model_prueba(model, italian_tokenizer, prueba2)"
   ]
  },
  {
   "cell_type": "code",
   "execution_count": 96,
   "metadata": {},
   "outputs": [
    {
     "name": "stdout",
     "output_type": "stream",
     "text": [
      "[['mi', 'e', 'stato', 'detto', 'che', 'che', 'parte', 'cospicua', 'cospicua', 'gruppo', 'gruppo', 'socialista', 'vorrebbe', 'vorrebbe', 'venisse', 'venisse', 'venisse', 'ritirato', 'dallordine', 'dallordine', 'in', 'in', 'in', 'votazione', 'votazione', 'di', 'di', 'di', 'conferenza', 'presidenti', 'presidenti', 'mancato', 'mancato', 'voto', 'del', 'del', 'del', 'del', 'del', 'dei', 'competenti', 'competenti', 'del', 'gruppo', 'socialista']]\n"
     ]
    }
   ],
   "source": [
    "prueba = ['i was told that large sections of the socialist group were also keen to have this item taken off the agenda because at the vote in the conference of presidents no vote was received from the working group of members of the socialist group responsible for this matter']\n",
    "prueba2 = encode_sequences(ingles_tokenizer, ingles_length, prueba)\n",
    "evaluate_model_prueba(model, italian_tokenizer, prueba2)"
   ]
  },
  {
   "cell_type": "code",
   "execution_count": 98,
   "metadata": {},
   "outputs": [
    {
     "name": "stdout",
     "output_type": "stream",
     "text": [
      "[['ci', 'sono', 'obiezioni']]\n"
     ]
    }
   ],
   "source": [
    "prueba =['we therefore respect whatever']\n",
    "prueba2 = encode_sequences(ingles_tokenizer, ingles_length, prueba)\n",
    "evaluate_model_prueba(model, italian_tokenizer, prueba2)"
   ]
  },
  {
   "cell_type": "code",
   "execution_count": null,
   "metadata": {},
   "outputs": [],
   "source": []
  }
 ],
 "metadata": {
  "kernelspec": {
   "display_name": "Python 3",
   "language": "python",
   "name": "python3"
  },
  "language_info": {
   "codemirror_mode": {
    "name": "ipython",
    "version": 3
   },
   "file_extension": ".py",
   "mimetype": "text/x-python",
   "name": "python",
   "nbconvert_exporter": "python",
   "pygments_lexer": "ipython3",
   "version": "3.7.3"
  }
 },
 "nbformat": 4,
 "nbformat_minor": 2
}
