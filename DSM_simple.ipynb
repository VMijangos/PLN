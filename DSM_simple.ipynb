{
 "cells": [
  {
   "cell_type": "markdown",
   "metadata": {},
   "source": [
    "# Espacio vecorial distribucional"
   ]
  },
  {
   "cell_type": "raw",
   "metadata": {},
   "source": [
    "Lo que haremos ahora es construir un espacio vectorial con base en la teoría distribucional. Para esto necesitamos manipular matrices y vectores dentro de nuestra programación. La librería de numpy cuenta con funciones matemáticas que nos serán útiles para realizar los programas. Para acceder a la librería:"
   ]
  },
  {
   "cell_type": "code",
   "execution_count": 1,
   "metadata": {
    "collapsed": true
   },
   "outputs": [],
   "source": [
    "import numpy as np"
   ]
  },
  {
   "cell_type": "raw",
   "metadata": {},
   "source": [
    "Supóngase que se tienen las siguientes oraciones como corpus de entrada:"
   ]
  },
  {
   "cell_type": "code",
   "execution_count": 2,
   "metadata": {
    "collapsed": true
   },
   "outputs": [],
   "source": [
    "sentences = ['Juan come sushi','Pedro come unos tacos','Juan prepara tacos','Pedro prepara sushi']"
   ]
  },
  {
   "cell_type": "raw",
   "metadata": {},
   "source": [
    "El primer paso es crear una Bolsa de palabras a partir de este corpus; es decir, transformaremos las palabras en números y crearemos un diccionario que nos servirá de referencia para recuperar las palabras originales."
   ]
  },
  {
   "cell_type": "code",
   "execution_count": 3,
   "metadata": {
    "collapsed": true
   },
   "outputs": [],
   "source": [
    "from collections import defaultdict\n",
    "\n",
    "def vocab():\n",
    "    dicc = defaultdict()\n",
    "    dicc.default_factory = lambda: len(dicc)\n",
    "    return dicc\n",
    "\n",
    "def BoW(corpus,vocab):\n",
    "    for w in corpus:\n",
    "        yield[vocab[w_i] for w_i in w.split()]\n",
    "        \n",
    "words = vocab()\n",
    "BagOfWords = list(BoW(sentences,words))"
   ]
  },
  {
   "cell_type": "raw",
   "metadata": {},
   "source": [
    "Lo que nos regreserán estas funciones son un diccionario donde se asocia cada palabra a un número natural; además, de las oraciones de la lista sentences con dichos números."
   ]
  },
  {
   "cell_type": "code",
   "execution_count": 4,
   "metadata": {
    "collapsed": false
   },
   "outputs": [
    {
     "name": "stdout",
     "output_type": "stream",
     "text": [
      "[[0, 1, 2], [3, 1, 4, 5], [0, 6, 5], [3, 6, 2]]\n"
     ]
    }
   ],
   "source": [
    "print BagOfWords"
   ]
  },
  {
   "cell_type": "raw",
   "metadata": {},
   "source": [
    "Por ejemplo, las palabra \"Juan\" corresponde al número 0"
   ]
  },
  {
   "cell_type": "code",
   "execution_count": 5,
   "metadata": {
    "collapsed": false
   },
   "outputs": [
    {
     "name": "stdout",
     "output_type": "stream",
     "text": [
      "0\n"
     ]
    }
   ],
   "source": [
    "print words[\"Juan\"]"
   ]
  },
  {
   "cell_type": "raw",
   "metadata": {},
   "source": [
    "Mientras que Pedro se corresponde al número 3."
   ]
  },
  {
   "cell_type": "code",
   "execution_count": 6,
   "metadata": {
    "collapsed": false
   },
   "outputs": [
    {
     "name": "stdout",
     "output_type": "stream",
     "text": [
      "3\n"
     ]
    }
   ],
   "source": [
    "print words[\"Pedro\"]"
   ]
  },
  {
   "cell_type": "raw",
   "metadata": {},
   "source": [
    "De esta forma, podemos definir una matriz con numpy que tenga el tamaño del vocabulario:"
   ]
  },
  {
   "cell_type": "code",
   "execution_count": 8,
   "metadata": {
    "collapsed": false
   },
   "outputs": [
    {
     "name": "stdout",
     "output_type": "stream",
     "text": [
      "(7L, 7L)\n"
     ]
    }
   ],
   "source": [
    "A = np.zeros((len(words),len(words)))\n",
    "print A.shape"
   ]
  },
  {
   "cell_type": "raw",
   "metadata": {},
   "source": [
    "Para el modelo distribucional simple, únicamente completaremos la matriz A con las co-ocurrencias de las palabras, de tal forma que la amtriz estará completada por números enteros"
   ]
  },
  {
   "cell_type": "code",
   "execution_count": 9,
   "metadata": {
    "collapsed": false
   },
   "outputs": [
    {
     "name": "stdout",
     "output_type": "stream",
     "text": [
      "[[ 0.  1.  1.  0.  0.  1.  1.]\n",
      " [ 1.  0.  1.  1.  1.  1.  0.]\n",
      " [ 1.  1.  0.  1.  0.  0.  1.]\n",
      " [ 0.  1.  1.  0.  1.  1.  1.]\n",
      " [ 0.  1.  0.  1.  0.  1.  0.]\n",
      " [ 1.  1.  0.  1.  1.  0.  1.]\n",
      " [ 1.  0.  1.  1.  0.  1.  0.]]\n"
     ]
    }
   ],
   "source": [
    "for w1 in words:\n",
    "    for w2 in words:\n",
    "        cooc = 0\n",
    "        for context in BagOfWords:\n",
    "            if words[w1] in context and words[w2] in context and w1 != w2:\n",
    "                cooc += 1\n",
    "        A[words[w1],words[w2]] = cooc\n",
    "    \n",
    "print A"
   ]
  },
  {
   "cell_type": "raw",
   "metadata": {},
   "source": [
    "Podemos ver por ejemplo que para la palabra \"Juan\" se tiene el vector:"
   ]
  },
  {
   "cell_type": "code",
   "execution_count": 11,
   "metadata": {
    "collapsed": false
   },
   "outputs": [
    {
     "name": "stdout",
     "output_type": "stream",
     "text": [
      "[ 0.  1.  1.  0.  0.  1.  1.]\n"
     ]
    }
   ],
   "source": [
    "print A[words[\"Juan\"]]"
   ]
  }
 ],
 "metadata": {
  "kernelspec": {
   "display_name": "Python 2",
   "language": "python",
   "name": "python2"
  },
  "language_info": {
   "codemirror_mode": {
    "name": "ipython",
    "version": 2
   },
   "file_extension": ".py",
   "mimetype": "text/x-python",
   "name": "python",
   "nbconvert_exporter": "python",
   "pygments_lexer": "ipython2",
   "version": "2.7.12"
  }
 },
 "nbformat": 4,
 "nbformat_minor": 0
}
