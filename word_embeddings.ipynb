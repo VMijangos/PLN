{
 "cells": [
  {
   "cell_type": "markdown",
   "metadata": {},
   "source": [
    "# Word embeddings"
   ]
  },
  {
   "cell_type": "markdown",
   "metadata": {},
   "source": [
    "El algoritmo de word embeddings busca obtener representaciones vectoriales de palabras a patrtir de optimizar una función de probabilidad condicional. Al igual que con los modelos de DSM, necesitamos definir una bolsa de palabras."
   ]
  },
  {
   "cell_type": "code",
   "execution_count": 1,
   "metadata": {
    "collapsed": true
   },
   "outputs": [],
   "source": [
    "%matplotlib inline\n",
    "import numpy as np\n",
    "from collections import defaultdict\n",
    "import matplotlib.pyplot as plt\n",
    "\n",
    "def vocab():\n",
    "    dicc = defaultdict()\n",
    "    dicc.default_factory = lambda: len(dicc)\n",
    "    return dicc\n",
    "\n",
    "def BoW(corpus,vocab):\n",
    "    for w in corpus:\n",
    "        yield[vocab[w_i] for w_i in w.split()]"
   ]
  },
  {
   "cell_type": "markdown",
   "metadata": {},
   "source": [
    "También definiremos una función de ploteo para observar cómo funciona el algoritmo:"
   ]
  },
  {
   "cell_type": "code",
   "execution_count": 2,
   "metadata": {
    "collapsed": true
   },
   "outputs": [],
   "source": [
    "def plot_words(Z,ids):\n",
    "    r=0\n",
    "    plt.scatter(Z[:,0],Z[:,1], marker='o', c='blue')\n",
    "    for label,x,y in zip(ids, Z[:,0], Z[:,1]):\n",
    "        plt.annotate(label.decode('utf8'), xy=(x,y), xytext=(-1,1), textcoords='offset points', ha='center', va='bottom')\n",
    "        r+=1\n",
    "    plt.show()"
   ]
  },
  {
   "cell_type": "markdown",
   "metadata": {},
   "source": [
    "Ahora supongamos que tenemos las siguientes oraciones:"
   ]
  },
  {
   "cell_type": "code",
   "execution_count": 3,
   "metadata": {
    "collapsed": true
   },
   "outputs": [],
   "source": [
    "sentences = [\n",
    "            'gato perro',\n",
    "            'gato corre',\n",
    "            'perro gato',\n",
    "            'perro corre',\n",
    "            'perro ladra'\n",
    "            ]"
   ]
  },
  {
   "cell_type": "markdown",
   "metadata": {},
   "source": [
    "Y obténgase la bolsa de palabras de estas oraciones."
   ]
  },
  {
   "cell_type": "code",
   "execution_count": 4,
   "metadata": {
    "collapsed": false
   },
   "outputs": [],
   "source": [
    "V = vocab()\n",
    "words = list(BoW(sentences,V))"
   ]
  },
  {
   "cell_type": "markdown",
   "metadata": {},
   "source": [
    "En este caso, queremos definir una red neuronal con una capa oculta, aquí trataremos de optimizar sobre estos parámetros. Por tanto, crearemos dos matrices. La primera matriz es la matriz de entrada: ésta contendrá los k vectores correspondientes al vocabulario y tendrá una dimensión n. Por su parte, la matriz de salida corresponderá a la matriz de pesos de la capa oculta. Esta matriz es de nxk; sin embargo no es simplemente la transpuesta de la matriz de entrada, si no que iniciará aleatoriamente."
   ]
  },
  {
   "cell_type": "code",
   "execution_count": 5,
   "metadata": {
    "collapsed": false
   },
   "outputs": [
    {
     "data": {
      "image/png": "[encoded data removed]",
      "text/plain": [
       "<matplotlib.figure.Figure at 0x71eaa58>"
      ]
     },
     "metadata": {},
     "output_type": "display_data"
    }
   ],
   "source": [
    "k = len(V)\n",
    "n = 2\n",
    "\n",
    "WI = (np.random.random((k,n)) - 0.5) / n\n",
    "WO = (np.random.random((n,k)) - 0.5) / n\n",
    "\n",
    "plot_words(WI, V.keys())"
   ]
  },
  {
   "cell_type": "markdown",
   "metadata": {},
   "source": [
    "La suposición inicial del algoritmo de word embeddings es que cada una de las palabras tiene un vector de inicio asignado aleatoriamente a partir de las matrices definidas. Buscamos, entonces, minimizar la función de pérdida dada por L = -log P(w_O|w_I) donde P(w_O|w_I) es la función Softmax."
   ]
  },
  {
   "cell_type": "code",
   "execution_count": 6,
   "metadata": {
    "collapsed": false
   },
   "outputs": [],
   "source": [
    "def softmax(w_O, w_I):\n",
    "    return np.exp(-np.dot(WO.T[V[w_O]], WI[V[w_I]])) / sum( np.exp(-np.dot(WO.T[V[w]], WI[V[w_I]])) for w in V )"
   ]
  },
  {
   "cell_type": "markdown",
   "metadata": {},
   "source": [
    "Podemos calcular la probabilidad de perro dado gato."
   ]
  },
  {
   "cell_type": "code",
   "execution_count": 7,
   "metadata": {
    "collapsed": false
   },
   "outputs": [
    {
     "name": "stdout",
     "output_type": "stream",
     "text": [
      "0.250860953171\n"
     ]
    }
   ],
   "source": [
    "print softmax('perro', 'gato')"
   ]
  },
  {
   "cell_type": "markdown",
   "metadata": {},
   "source": [
    "Con la función Softmax definida, determinaremos el error como t - P(w_O|w_I) donde t=1 si w_O es la palabra objetivo y t=0 si no. También calcularemos el gradiente descendiente estocástico con base en este error y propagaremos el error. En este caso 'a' es el rango de aprendizaje."
   ]
  },
  {
   "cell_type": "code",
   "execution_count": 8,
   "metadata": {
    "collapsed": false
   },
   "outputs": [],
   "source": [
    "def upgrade(target_word, w_I, a=1.0):\n",
    "    for w_O in V:\n",
    "        p_w = softmax(w_O, w_I)\n",
    "        t = 1 if w_O == target_word else 0\n",
    "        err = t - p_w\n",
    "    \n",
    "        #A partir de esto podemos aplicar el gradiente descendiente\n",
    "        WO.T[V[w_O]] -= a*err*WI[V[w_I]] \n",
    "\n",
    "    #Aplicamos ahora la retropropagación de error\n",
    "    WI[V[w_I]] -= a*WO.sum(1)"
   ]
  },
  {
   "cell_type": "markdown",
   "metadata": {},
   "source": [
    "Esta función upgrade() nos ayudará a actualizar los parámetros de la red neuronal, en este caso las matrices, hasta llegar a un óptimo. Por ejemplo, si aplicamos la función a las palabras gato y perro. "
   ]
  },
  {
   "cell_type": "code",
   "execution_count": 9,
   "metadata": {
    "collapsed": false
   },
   "outputs": [],
   "source": [
    "upgrade('perro', 'gato')"
   ]
  },
  {
   "cell_type": "markdown",
   "metadata": {},
   "source": [
    "Podemos ver que la probabilidad aumento, ya que estoy suponiendo que aparecen ambras palabras en el mismo contexto."
   ]
  },
  {
   "cell_type": "code",
   "execution_count": 10,
   "metadata": {
    "collapsed": false
   },
   "outputs": [
    {
     "name": "stdout",
     "output_type": "stream",
     "text": [
      "gato 0.262037286609\n",
      "perro 0.236421149579\n",
      "corre 0.252609787317\n",
      "ladra 0.257115824317\n"
     ]
    }
   ],
   "source": [
    "for w in V:\n",
    "    print w, softmax('perro', w)"
   ]
  },
  {
   "cell_type": "markdown",
   "metadata": {},
   "source": [
    "Por tanto, el espacio vectorial debió modificarse. Compárese con el obtenido anteriormente. Se verá que los vectores de perro y gato están un poco más cercanos."
   ]
  },
  {
   "cell_type": "code",
   "execution_count": 11,
   "metadata": {
    "collapsed": false
   },
   "outputs": [
    {
     "data": {
      "image/png": "[encoded data removed]",
      "text/plain": [
       "<matplotlib.figure.Figure at 0x78bd9e8>"
      ]
     },
     "metadata": {},
     "output_type": "display_data"
    }
   ],
   "source": [
    "plot_words(WI, V.keys())"
   ]
  },
  {
   "cell_type": "markdown",
   "metadata": {},
   "source": [
    "Y si hacemos otras iteraciones."
   ]
  },
  {
   "cell_type": "code",
   "execution_count": 12,
   "metadata": {
    "collapsed": false
   },
   "outputs": [
    {
     "data": {
      "image/png": "[encoded data removed]",
      "text/plain": [
       "<matplotlib.figure.Figure at 0x77a74e0>"
      ]
     },
     "metadata": {},
     "output_type": "display_data"
    },
    {
     "data": {
      "image/png": "[encoded data removed]",
      "text/plain": [
       "<matplotlib.figure.Figure at 0x7d25e48>"
      ]
     },
     "metadata": {},
     "output_type": "display_data"
    },
    {
     "data": {
      "image/png": "[encoded data removed]",
      "text/plain": [
       "<matplotlib.figure.Figure at 0x7f04d30>"
      ]
     },
     "metadata": {},
     "output_type": "display_data"
    }
   ],
   "source": [
    "for i in range(0,3):\n",
    "    upgrade('perro', 'gato')\n",
    "    plot_words(WI, V.keys())    "
   ]
  },
  {
   "cell_type": "raw",
   "metadata": {},
   "source": [
    "En este caso, no notamos que los vectores de gato y perro, que comparten contextos, se acerquen todavía. Lo que haremos ahora es aplicar esto al corpus entero. Para esto, usaremos los contextos y determinaremos si las palabras aparecen o no en los mismos contextos. El proceso es parecido al de los modelos del lenguaje con bigramas, pero aquí también optimizaremos el espacio vectorial y no sólo las probabilidades.\n",
    "\n",
    "Nótese que aquí los contextos a priori ya están definidos como bigramas; por tanto, se utilizarán tal como aparecen."
   ]
  },
  {
   "cell_type": "code",
   "execution_count": 20,
   "metadata": {
    "collapsed": false
   },
   "outputs": [
    {
     "data": {
      "image/png": "[encoded data removed]",
      "text/plain": [
       "<matplotlib.figure.Figure at 0x8077da0>"
      ]
     },
     "metadata": {},
     "output_type": "display_data"
    }
   ],
   "source": [
    "from itertools import combinations\n",
    "\n",
    "for i in range(0,100):\n",
    "    for s in sentences:\n",
    "        x,y = s.split()\n",
    "        upgrade(y, x, a=0.1)\n",
    "plot_words(WI, V.keys())"
   ]
  },
  {
   "cell_type": "markdown",
   "metadata": {},
   "source": [
    "Podemos notar, que el algoritmo genera un espacio en el que los sustantivos 'gato' y 'perro' son separables de las palabras correspondientes a los verbos."
   ]
  }
 ],
 "metadata": {
  "kernelspec": {
   "display_name": "Python 2",
   "language": "python",
   "name": "python2"
  },
  "language_info": {
   "codemirror_mode": {
    "name": "ipython",
    "version": 2
   },
   "file_extension": ".py",
   "mimetype": "text/x-python",
   "name": "python",
   "nbconvert_exporter": "python",
   "pygments_lexer": "ipython2",
   "version": "2.7.12"
  }
 },
 "nbformat": 4,
 "nbformat_minor": 0
}
