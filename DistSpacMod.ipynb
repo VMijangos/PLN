{
 "cells": [
  {
   "cell_type": "markdown",
   "metadata": {},
   "source": [
    "# Distributional Space Models"
   ]
  },
  {
   "cell_type": "markdown",
   "metadata": {},
   "source": [
    "A continuación mostramos varios DSMs obtenidos a partir del siguiente corpus:"
   ]
  },
  {
   "cell_type": "code",
   "execution_count": 1,
   "metadata": {
    "collapsed": true
   },
   "outputs": [],
   "source": [
    "import numpy as np\n",
    "from itertools import combinations, chain\n",
    "import matplotlib.pyplot as plt\n",
    "from collections import defaultdict\n",
    "from PCA import pca\n",
    "from DSM import dsm\n",
    "\n",
    "corpus = ['el gato mascota el perro es mascota el gato mascota el auto es maquina el avion maquina']"
   ]
  },
  {
   "cell_type": "markdown",
   "metadata": {},
   "source": [
    "Para graficar las imágenes es importante definir una función que, además de plotear los puntos, indique a que palabra pertenece cada punto. Esta función se muestra a continuación"
   ]
  },
  {
   "cell_type": "code",
   "execution_count": 2,
   "metadata": {
    "collapsed": true
   },
   "outputs": [],
   "source": [
    "def plot_words(Z,ids): #La funcion recibe la matriz de datos y los ids de cada uno de los elementos\n",
    "    r=0\n",
    "    plt.scatter(Z[:,0],Z[:,1], marker='o', c='blue')\n",
    "    for label,x,y in zip(ids, Z[:,0], Z[:,1]):\n",
    "        plt.annotate(label.decode('utf8'), xy=(x,y), xytext=(-1,1), textcoords='offset points', ha='center', va='bottom')\n",
    "        r+=1\n",
    "    plt.show()"
   ]
  },
  {
   "cell_type": "markdown",
   "metadata": {},
   "source": [
    "Las funciones que siguen guardan el vocabulario y ids numéricos para identificar los índices de las entradas de la matriz de datos:"
   ]
  },
  {
   "cell_type": "code",
   "execution_count": 3,
   "metadata": {
    "collapsed": true
   },
   "outputs": [],
   "source": [
    "def vocab():\n",
    "    dicc = defaultdict()\n",
    "    dicc.default_factory = lambda: len(dicc)\n",
    "    return dicc\n",
    "\n",
    "def BoW(corpus,vocab):\n",
    "    for w in corpus:\n",
    "        yield[vocab[w_i] for w_i in w.split()]"
   ]
  },
  {
   "cell_type": "markdown",
   "metadata": {},
   "source": [
    "Hay que recordar que el contexto de una palabra puede ser una ventana de $k\\times k$ de tal forma que:\n",
    "$$N(w_i) = \\{w_j : w_j \\text{ está en la ventana de } w_i\\}$$"
   ]
  },
  {
   "cell_type": "code",
   "execution_count": 4,
   "metadata": {
    "collapsed": true
   },
   "outputs": [],
   "source": [
    "def get_context(C,size=3):\n",
    "    l = 2*size + 1\n",
    "    return [C[0][i:i+l] for i in xrange(len(C[0])-l+1)]"
   ]
  },
  {
   "cell_type": "markdown",
   "metadata": {},
   "source": [
    "A partir de esto, podemos obtener los contextos."
   ]
  },
  {
   "cell_type": "code",
   "execution_count": 52,
   "metadata": {
    "collapsed": false
   },
   "outputs": [
    {
     "name": "stdout",
     "output_type": "stream",
     "text": [
      "[[0, 1, 2, 0, 3, 4, 2], [1, 2, 0, 3, 4, 2, 0], [2, 0, 3, 4, 2, 0, 1], [0, 3, 4, 2, 0, 1, 2], [3, 4, 2, 0, 1, 2, 0], [4, 2, 0, 1, 2, 0, 5], [2, 0, 1, 2, 0, 5, 4], [0, 1, 2, 0, 5, 4, 6], [1, 2, 0, 5, 4, 6, 0], [2, 0, 5, 4, 6, 0, 7], [0, 5, 4, 6, 0, 7, 6]]\n"
     ]
    }
   ],
   "source": [
    "words = vocab()\n",
    "BagOfWords = list(BoW(corpus,words))\n",
    "\n",
    "contexts = get_context(BagOfWords)\n",
    "\n",
    "print contexts"
   ]
  },
  {
   "cell_type": "markdown",
   "metadata": {},
   "source": [
    "Así, podemos definir una función de pesos, en este caso la función es la más simple y se define como: $$\\phi(w_i,w_j) = \\begin{cases} 1 & w_j \\in N(w_i) \\\\ 0 & w_j \\notin N(w_i) \\end{cases}$$"
   ]
  },
  {
   "cell_type": "code",
   "execution_count": 53,
   "metadata": {
    "collapsed": true
   },
   "outputs": [],
   "source": [
    "def weight(x,y):\n",
    "    x_cont = []\n",
    "    for cont in contexts:\n",
    "        if x in cont:\n",
    "            x_cont.append(cont)\n",
    "    if y in set(chain(*x_cont)):\n",
    "        return 1\n",
    "    else:\n",
    "        return 0"
   ]
  },
  {
   "cell_type": "markdown",
   "metadata": {},
   "source": [
    "A partir de esto, podemos generar la matriz $A \\in \\mathbb{R}^{V\\times m}$ donde: $$A = (a_ij) = \\phi(w_i,w_j)$$\n",
    "\n",
    "Ya que la matriz, bajo esta función de pesos, es simétrica, podemos sólo calcular los pesos para la mitad de los datos y obtener la matriz completa como $A + A^T$."
   ]
  },
  {
   "cell_type": "code",
   "execution_count": 54,
   "metadata": {
    "collapsed": false
   },
   "outputs": [
    {
     "name": "stdout",
     "output_type": "stream",
     "text": [
      "[[ 0.  1.  1.  1.  1.  1.  1.  1.]\n",
      " [ 1.  0.  1.  1.  1.  1.  1.  0.]\n",
      " [ 1.  1.  0.  1.  1.  1.  1.  1.]\n",
      " [ 1.  1.  1.  0.  1.  0.  0.  0.]\n",
      " [ 1.  1.  1.  1.  0.  1.  1.  1.]\n",
      " [ 1.  1.  1.  0.  1.  0.  1.  1.]\n",
      " [ 1.  1.  1.  0.  1.  1.  0.  1.]\n",
      " [ 1.  0.  1.  0.  1.  1.  1.  0.]]\n"
     ]
    }
   ],
   "source": [
    "N = len(words)\n",
    "A = np.zeros((N,N))\n",
    "\n",
    "for w1,w2 in combinations(words.values(),2):\n",
    "    A[w1,w2] = weight(w1,w2)\n",
    "\n",
    "A = A + A.T\n",
    "print A"
   ]
  },
  {
   "cell_type": "markdown",
   "metadata": {},
   "source": [
    "Finalmente, podemos graficar los puntos:"
   ]
  },
  {
   "cell_type": "code",
   "execution_count": 55,
   "metadata": {
    "collapsed": false
   },
   "outputs": [
    {
     "data": {
      "image/png": "[encoded data removed]",
      "text/plain": [
       "<matplotlib.figure.Figure at 0x7f72570a1e50>"
      ]
     },
     "metadata": {},
     "output_type": "display_data"
    }
   ],
   "source": [
    "from operator import itemgetter\n",
    "ids = [x[0] for x in sorted(words.iteritems(), key=itemgetter(1))] #Se reordenan los ids para que coincidan con los indices de la matriz\n",
    "plot_words(pca(A),ids)"
   ]
  },
  {
   "cell_type": "markdown",
   "metadata": {},
   "source": [
    "Otros modelos de DSM}\n",
    "\n",
    "Se pueden obtener otras representaciones a partir de otros modelos de DSMs, por ejemplo, a partir de la función de PMI."
   ]
  },
  {
   "cell_type": "code",
   "execution_count": 56,
   "metadata": {
    "collapsed": false
   },
   "outputs": [
    {
     "data": {
      "image/png": "[encoded data removed]",
      "text/plain": [
       "<matplotlib.figure.Figure at 0x7f725769d250>"
      ]
     },
     "metadata": {},
     "output_type": "display_data"
    }
   ],
   "source": [
    "CC = [' '.join(s) for s in get_context([corpus[0].split()],5)]\n",
    "A2, voc2 = dsm(CC, func = 'frec')\n",
    "\n",
    "ids2 = [x[0] for x in sorted(words.iteritems(), key=itemgetter(1))]\n",
    "plot_words(pca(A2),ids2)"
   ]
  },
  {
   "cell_type": "markdown",
   "metadata": {},
   "source": [
    "Se puede utilizar también un modelo de PMI:"
   ]
  },
  {
   "cell_type": "code",
   "execution_count": 57,
   "metadata": {
    "collapsed": false
   },
   "outputs": [
    {
     "data": {
      "image/png": "[encoded data removed]",
      "text/plain": [
       "<matplotlib.figure.Figure at 0x7f7256f62490>"
      ]
     },
     "metadata": {},
     "output_type": "display_data"
    }
   ],
   "source": [
    "CC3 = [' '.join(s) for s in get_context([corpus[0].split()],5)]\n",
    "A3, voc3 = dsm(CC3, func = 'pmi', )\n",
    "\n",
    "ids3 = [x[0] for x in sorted(words.iteritems(), key=itemgetter(1))]\n",
    "plot_words(pca(A3),ids3)"
   ]
  },
  {
   "cell_type": "code",
   "execution_count": null,
   "metadata": {
    "collapsed": true
   },
   "outputs": [],
   "source": []
  }
 ],
 "metadata": {
  "kernelspec": {
   "display_name": "Python 2",
   "language": "python",
   "name": "python2"
  },
  "language_info": {
   "codemirror_mode": {
    "name": "ipython",
    "version": 2
   },
   "file_extension": ".py",
   "mimetype": "text/x-python",
   "name": "python",
   "nbconvert_exporter": "python",
   "pygments_lexer": "ipython2",
   "version": "2.7.13"
  }
 },
 "nbformat": 4,
 "nbformat_minor": 2
}
