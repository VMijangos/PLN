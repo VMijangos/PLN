{
 "cells": [
  {
   "cell_type": "markdown",
   "metadata": {},
   "source": [
    "# Abrir numpy"
   ]
  },
  {
   "cell_type": "raw",
   "metadata": {},
   "source": [
    "La librería de numpy cuenta con funciones matemáticas que nos serán útiles para realizar los programas. Para acceder a la librería:"
   ]
  },
  {
   "cell_type": "code",
   "execution_count": 3,
   "metadata": {
    "collapsed": true
   },
   "outputs": [],
   "source": [
    "import numpy as np"
   ]
  },
  {
   "cell_type": "raw",
   "metadata": {},
   "source": [
    "Supóngase que se tienen las oraciones:"
   ]
  },
  {
   "cell_type": "code",
   "execution_count": 4,
   "metadata": {
    "collapsed": true
   },
   "outputs": [],
   "source": [
    "sentences = ['Juan come de la mesa','Pedro come unos tacos','Juan prepara tacos']"
   ]
  },
  {
   "cell_type": "raw",
   "metadata": {},
   "source": [
    "El primer paso es crear una Bolsa de palabras de esta oración."
   ]
  },
  {
   "cell_type": "code",
   "execution_count": 5,
   "metadata": {
    "collapsed": false
   },
   "outputs": [],
   "source": [
    "from collections import defaultdict\n",
    "\n",
    "def vocab():\n",
    "    dicc = defaultdict()\n",
    "    dicc.default_factory = lambda: len(dicc)\n",
    "    return dicc\n",
    "\n",
    "def BoW(corpus,vocab):\n",
    "    for w in corpus:\n",
    "        yield[vocab[w_i] for w_i in w.split()]\n",
    "        \n",
    "words = vocab()\n",
    "BagOfWords = list(BoW(sentences,words))"
   ]
  },
  {
   "cell_type": "raw",
   "metadata": {},
   "source": [
    "Lo que nos regreserán estas funciones son un diccionario donde se asocia cada palabra a un número natural; además, de las oraciones de la lista sentences con dichos números."
   ]
  },
  {
   "cell_type": "code",
   "execution_count": 6,
   "metadata": {
    "collapsed": false
   },
   "outputs": [
    {
     "name": "stdout",
     "output_type": "stream",
     "text": [
      "[[0, 1, 2, 3, 4], [5, 1, 6, 7], [0, 8, 7]]\n"
     ]
    }
   ],
   "source": [
    "print BagOfWords"
   ]
  },
  {
   "cell_type": "raw",
   "metadata": {},
   "source": [
    "Por ejemplo, las palabra \"Juan\" corresponde al número 0"
   ]
  },
  {
   "cell_type": "code",
   "execution_count": 7,
   "metadata": {
    "collapsed": false
   },
   "outputs": [
    {
     "name": "stdout",
     "output_type": "stream",
     "text": [
      "0\n"
     ]
    }
   ],
   "source": [
    "print words[\"Juan\"]\n"
   ]
  },
  {
   "cell_type": "raw",
   "metadata": {},
   "source": [
    "Mientras que Pedro se corresponde al número 5."
   ]
  },
  {
   "cell_type": "code",
   "execution_count": 8,
   "metadata": {
    "collapsed": false
   },
   "outputs": [
    {
     "name": "stdout",
     "output_type": "stream",
     "text": [
      "5\n"
     ]
    }
   ],
   "source": [
    "print words[\"Pedro\"]"
   ]
  },
  {
   "cell_type": "raw",
   "metadata": {},
   "source": [
    "De esta forma, podemos definir una matriz con numpy que tenga el tamaño del vocabulario:"
   ]
  },
  {
   "cell_type": "code",
   "execution_count": 9,
   "metadata": {
    "collapsed": false
   },
   "outputs": [
    {
     "name": "stdout",
     "output_type": "stream",
     "text": [
      "(9, 9)\n"
     ]
    }
   ],
   "source": [
    "A = np.zeros((len(words),len(words)))\n",
    "print A.shape"
   ]
  },
  {
   "cell_type": "markdown",
   "metadata": {},
   "source": [
    "# Modelo distribucional simple"
   ]
  },
  {
   "cell_type": "raw",
   "metadata": {},
   "source": [
    "Para el modelo distribucional simple, únicamente completaremos la matriz A con las co-ocurrencias de las palabras, de tal forma que la amtriz estará completada por números enteros."
   ]
  },
  {
   "cell_type": "code",
   "execution_count": 10,
   "metadata": {
    "collapsed": false,
    "scrolled": true
   },
   "outputs": [
    {
     "name": "stdout",
     "output_type": "stream",
     "text": [
      "[[ 0.  1.  1.  1.  1.  0.  0.  1.  1.]\n",
      " [ 1.  0.  1.  1.  1.  1.  1.  1.  0.]\n",
      " [ 1.  1.  0.  1.  1.  0.  0.  0.  0.]\n",
      " [ 1.  1.  1.  0.  1.  0.  0.  0.  0.]\n",
      " [ 1.  1.  1.  1.  0.  0.  0.  0.  0.]\n",
      " [ 0.  1.  0.  0.  0.  0.  1.  1.  0.]\n",
      " [ 0.  1.  0.  0.  0.  1.  0.  1.  0.]\n",
      " [ 1.  1.  0.  0.  0.  1.  1.  0.  1.]\n",
      " [ 1.  0.  0.  0.  0.  0.  0.  1.  0.]]\n"
     ]
    }
   ],
   "source": [
    "for w1 in words:\n",
    "    for w2 in words:\n",
    "        cooc = 0\n",
    "        for context in BagOfWords:\n",
    "            if words[w1] in context and words[w2] in context and w1 != w2:\n",
    "                cooc += 1\n",
    "        A[words[w1],words[w2]] = cooc\n",
    "    \n",
    "print A"
   ]
  },
  {
   "cell_type": "raw",
   "metadata": {},
   "source": [
    "Podemos ver por ejemplo que para la palabra \"Juan\" se tiene el vector:"
   ]
  },
  {
   "cell_type": "code",
   "execution_count": 11,
   "metadata": {
    "collapsed": false
   },
   "outputs": [
    {
     "name": "stdout",
     "output_type": "stream",
     "text": [
      "[ 0.  1.  1.  1.  1.  0.  0.  1.  1.]\n"
     ]
    }
   ],
   "source": [
    "print A[words[\"Juan\"]]"
   ]
  },
  {
   "cell_type": "markdown",
   "metadata": {},
   "source": [
    "Ahora, para realizar la reducción en valores singulares, primero usaremos la descomposición en tres matrices distintas. La matriz S que es la diagonal formada por las raíces cuadradas de los valores propios de A. Q y D que son matrices formadas por los vectores propios de AA^t y A^tA, respectivamente. "
   ]
  },
  {
   "cell_type": "code",
   "execution_count": 12,
   "metadata": {
    "collapsed": false
   },
   "outputs": [
    {
     "name": "stdout",
     "output_type": "stream",
     "text": [
      "[ 4.64713946  2.18631691  1.77173753  1.68348525  1.3247678   1.          1.\n",
      "  1.          0.94653421]\n"
     ]
    }
   ],
   "source": [
    "Q,S,D = np.linalg.svd(A)\n",
    "print S"
   ]
  },
  {
   "cell_type": "raw",
   "metadata": {},
   "source": [
    "Ahora, se reduce la matriz Q a una matriz de mxk, k menor a n, y S a una matriz de kxk. En este caso, k=2."
   ]
  },
  {
   "cell_type": "code",
   "execution_count": 16,
   "metadata": {
    "collapsed": false
   },
   "outputs": [
    {
     "name": "stdout",
     "output_type": "stream",
     "text": [
      "[[ 4.64713946  0.        ]\n",
      " [ 0.          2.18631691]]\n"
     ]
    }
   ],
   "source": [
    "k = 2\n",
    "Q = Q[:,:k]\n",
    "S = np.diag(S)[:k,:k]\n",
    "print S"
   ]
  },
  {
   "cell_type": "raw",
   "metadata": {},
   "source": [
    "Ahora crearemos una nueva matriz B con los elementos reducidos a 2 dimensiones:"
   ]
  },
  {
   "cell_type": "code",
   "execution_count": 17,
   "metadata": {
    "collapsed": false
   },
   "outputs": [
    {
     "name": "stdout",
     "output_type": "stream",
     "text": [
      "[[-0.4302777  -0.15239713]\n",
      " [-0.47969079  0.0898753 ]\n",
      " [-0.3437554  -0.3355671 ]\n",
      " [-0.3437554  -0.3355671 ]\n",
      " [-0.3437554  -0.3355671 ]\n",
      " [-0.22087942  0.45364905]\n",
      " [-0.22087942  0.45364905]\n",
      " [-0.32588726  0.44829623]\n",
      " [-0.16271622  0.13534136]]\n"
     ]
    }
   ],
   "source": [
    "B = np.zeros((len(words),k))\n",
    "for i,w in enumerate(A):\n",
    "    B[i] = np.dot(np.linalg.inv(S),np.dot(Q.T,w))\n",
    "    \n",
    "print B"
   ]
  },
  {
   "cell_type": "raw",
   "metadata": {},
   "source": [
    "Ahora, por ejemplo, \"Juan\" tiene el siguiente vector de dos dimensiones:"
   ]
  },
  {
   "cell_type": "code",
   "execution_count": 18,
   "metadata": {
    "collapsed": false
   },
   "outputs": [
    {
     "name": "stdout",
     "output_type": "stream",
     "text": [
      "[-0.4302777  -0.15239713]\n"
     ]
    }
   ],
   "source": [
    "print B[words[\"Juan\"]]"
   ]
  },
  {
   "cell_type": "raw",
   "metadata": {},
   "source": [
    "Finalmente, podemos ver cómo se ven en un espacio de dos dimensiones a partir de la siguiente función:"
   ]
  },
  {
   "cell_type": "code",
   "execution_count": 23,
   "metadata": {
    "collapsed": false
   },
   "outputs": [],
   "source": [
    "def plot_words(Z,ids):\n",
    "    import matplotlib.pyplot as plt\n",
    "    r=0\n",
    "    plt.scatter(Z[:,0],Z[:,1], marker='o', c='blue')\n",
    "    for label,x,y in zip(ids, Z[:,0], Z[:,1]):\n",
    "        plt.annotate(label.decode('utf8'), xy=(x,y), xytext=(-1,1), textcoords='offset points', ha='center', va='bottom')\n",
    "        r+=1\n",
    "    plt.show()\n",
    "\n",
    "plot_words(B,words.keys())"
   ]
  },
  {
   "cell_type": "raw",
   "metadata": {
    "collapsed": true,
    "slideshow": {
     "slide_type": "skip"
    }
   },
   "source": [
    "Ahora pues, podemos determinar la distancia entre las palabras \"Juan\" y \"Pedro\" o entre \"Pedro\" y \"mesa\". Para esto definirimos una distancia coseno: "
   ]
  },
  {
   "cell_type": "code",
   "execution_count": 21,
   "metadata": {
    "collapsed": false
   },
   "outputs": [
    {
     "name": "stdout",
     "output_type": "stream",
     "text": [
      "0.471404520791\n"
     ]
    }
   ],
   "source": [
    "def cos(x,y):\n",
    "    return np.dot(x,y)/( np.linalg.norm(x)*np.linalg.norm(y) )\n",
    "\n",
    "print cos(A[words[\"Juan\"]],A[words[\"Pedro\"]])"
   ]
  },
  {
   "cell_type": "code",
   "execution_count": 22,
   "metadata": {
    "collapsed": false
   },
   "outputs": [
    {
     "name": "stdout",
     "output_type": "stream",
     "text": [
      "0.288675134595\n"
     ]
    }
   ],
   "source": [
    "print cos(A[words[\"Pedro\"]],A[words[\"mesa\"]])"
   ]
  },
  {
   "cell_type": "code",
   "execution_count": null,
   "metadata": {
    "collapsed": true
   },
   "outputs": [],
   "source": []
  }
 ],
 "metadata": {
  "celltoolbar": "Slideshow",
  "kernelspec": {
   "display_name": "Python 2",
   "language": "python",
   "name": "python2"
  },
  "language_info": {
   "codemirror_mode": {
    "name": "ipython",
    "version": 2
   },
   "file_extension": ".py",
   "mimetype": "text/x-python",
   "name": "python",
   "nbconvert_exporter": "python",
   "pygments_lexer": "ipython2",
   "version": "2.7.11"
  }
 },
 "nbformat": 4,
 "nbformat_minor": 0
}
