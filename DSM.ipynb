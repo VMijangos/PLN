{
 "cells": [
  {
   "cell_type": "markdown",
   "metadata": {},
   "source": [
    "# Abrir numpy"
   ]
  },
  {
   "cell_type": "raw",
   "metadata": {},
   "source": [
    "La librería de numpy cuenta con funciones matemáticas que nos serán útiles para realizar los programas. Para acceder a la librería:"
   ]
  },
  {
   "cell_type": "code",
   "execution_count": 54,
   "metadata": {
    "collapsed": true
   },
   "outputs": [],
   "source": [
    "%matplotlib inline\n",
    "import numpy as np"
   ]
  },
  {
   "cell_type": "raw",
   "metadata": {},
   "source": [
    "Supóngase que se tienen las oraciones:"
   ]
  },
  {
   "cell_type": "code",
   "execution_count": 55,
   "metadata": {
    "collapsed": true
   },
   "outputs": [],
   "source": [
    "sentences = ['Juan come sushi','Pedro come unos tacos','Juan prepara tacos','Pedro prepara sushi']"
   ]
  },
  {
   "cell_type": "raw",
   "metadata": {},
   "source": [
    "El primer paso es crear una Bolsa de palabras de esta oración."
   ]
  },
  {
   "cell_type": "code",
   "execution_count": 56,
   "metadata": {
    "collapsed": false
   },
   "outputs": [],
   "source": [
    "from collections import defaultdict\n",
    "\n",
    "def vocab():\n",
    "    dicc = defaultdict()\n",
    "    dicc.default_factory = lambda: len(dicc)\n",
    "    return dicc\n",
    "\n",
    "def BoW(corpus,vocab):\n",
    "    for w in corpus:\n",
    "        yield[vocab[w_i] for w_i in w.split()]\n",
    "        \n",
    "words = vocab()\n",
    "BagOfWords = list(BoW(sentences,words))"
   ]
  },
  {
   "cell_type": "raw",
   "metadata": {},
   "source": [
    "Lo que nos regreserán estas funciones son un diccionario donde se asocia cada palabra a un número natural; además, de las oraciones de la lista sentences con dichos números."
   ]
  },
  {
   "cell_type": "code",
   "execution_count": 57,
   "metadata": {
    "collapsed": false
   },
   "outputs": [
    {
     "name": "stdout",
     "output_type": "stream",
     "text": [
      "[[0, 1, 2], [3, 1, 4, 5], [0, 6, 5], [3, 6, 2]]\n"
     ]
    }
   ],
   "source": [
    "print BagOfWords"
   ]
  },
  {
   "cell_type": "raw",
   "metadata": {},
   "source": [
    "Por ejemplo, las palabra \"Juan\" corresponde al número 0"
   ]
  },
  {
   "cell_type": "code",
   "execution_count": 58,
   "metadata": {
    "collapsed": false
   },
   "outputs": [
    {
     "name": "stdout",
     "output_type": "stream",
     "text": [
      "0\n"
     ]
    }
   ],
   "source": [
    "print words[\"Juan\"]\n"
   ]
  },
  {
   "cell_type": "raw",
   "metadata": {},
   "source": [
    "Mientras que Pedro se corresponde al número 3."
   ]
  },
  {
   "cell_type": "code",
   "execution_count": 59,
   "metadata": {
    "collapsed": false
   },
   "outputs": [
    {
     "name": "stdout",
     "output_type": "stream",
     "text": [
      "3\n"
     ]
    }
   ],
   "source": [
    "print words[\"Pedro\"]"
   ]
  },
  {
   "cell_type": "raw",
   "metadata": {},
   "source": [
    "De esta forma, podemos definir una matriz con numpy que tenga el tamaño del vocabulario:"
   ]
  },
  {
   "cell_type": "code",
   "execution_count": 60,
   "metadata": {
    "collapsed": false
   },
   "outputs": [
    {
     "name": "stdout",
     "output_type": "stream",
     "text": [
      "(7, 7)\n"
     ]
    }
   ],
   "source": [
    "A = np.zeros((len(words),len(words)))\n",
    "print A.shape"
   ]
  },
  {
   "cell_type": "markdown",
   "metadata": {},
   "source": [
    "# Modelo distribucional simple"
   ]
  },
  {
   "cell_type": "raw",
   "metadata": {},
   "source": [
    "Para el modelo distribucional simple, únicamente completaremos la matriz A con las co-ocurrencias de las palabras, de tal forma que la amtriz estará completada por números enteros."
   ]
  },
  {
   "cell_type": "code",
   "execution_count": 61,
   "metadata": {
    "collapsed": false,
    "scrolled": true
   },
   "outputs": [
    {
     "name": "stdout",
     "output_type": "stream",
     "text": [
      "[[ 0.  1.  1.  0.  0.  1.  1.]\n",
      " [ 1.  0.  1.  1.  1.  1.  0.]\n",
      " [ 1.  1.  0.  1.  0.  0.  1.]\n",
      " [ 0.  1.  1.  0.  1.  1.  1.]\n",
      " [ 0.  1.  0.  1.  0.  1.  0.]\n",
      " [ 1.  1.  0.  1.  1.  0.  1.]\n",
      " [ 1.  0.  1.  1.  0.  1.  0.]]\n"
     ]
    }
   ],
   "source": [
    "for w1 in words:\n",
    "    for w2 in words:\n",
    "        cooc = 0\n",
    "        for context in BagOfWords:\n",
    "            if words[w1] in context and words[w2] in context and w1 != w2:\n",
    "                cooc += 1\n",
    "        A[words[w1],words[w2]] = cooc\n",
    "    \n",
    "print A"
   ]
  },
  {
   "cell_type": "raw",
   "metadata": {},
   "source": [
    "Podemos ver por ejemplo que para la palabra \"Juan\" se tiene el vector:"
   ]
  },
  {
   "cell_type": "code",
   "execution_count": 62,
   "metadata": {
    "collapsed": false
   },
   "outputs": [
    {
     "name": "stdout",
     "output_type": "stream",
     "text": [
      "[ 0.  1.  1.  0.  0.  1.  1.]\n"
     ]
    }
   ],
   "source": [
    "print A[words[\"Juan\"]]"
   ]
  },
  {
   "cell_type": "markdown",
   "metadata": {},
   "source": [
    "Ahora, para realizar la reducción en valores singulares, primero usaremos la descomposición en tres matrices distintas. La matriz S que es la diagonal formada por las raíces cuadradas de los valores propios de A. Q y D que son matrices formadas por los vectores propios de AA^t y A^tA, respectivamente. "
   ]
  },
  {
   "cell_type": "code",
   "execution_count": 63,
   "metadata": {
    "collapsed": false
   },
   "outputs": [
    {
     "name": "stdout",
     "output_type": "stream",
     "text": [
      "[  4.37228132e+00   2.00000000e+00   2.00000000e+00   1.37228132e+00\n",
      "   1.00000000e+00   3.65060341e-16   1.06209955e-16]\n"
     ]
    }
   ],
   "source": [
    "Q,S,D = np.linalg.svd(A)\n",
    "print S"
   ]
  },
  {
   "cell_type": "raw",
   "metadata": {},
   "source": [
    "Ahora, se reduce la matriz Q a una matriz de mxk, k menor a n, y S a una matriz de kxk. En este caso, k=2."
   ]
  },
  {
   "cell_type": "code",
   "execution_count": 64,
   "metadata": {
    "collapsed": false
   },
   "outputs": [
    {
     "name": "stdout",
     "output_type": "stream",
     "text": [
      "[[ 4.37228132  0.        ]\n",
      " [ 0.          2.        ]]\n"
     ]
    }
   ],
   "source": [
    "k = 2\n",
    "Q = Q[:,:k]\n",
    "S = np.diag(S)[:k,:k]\n",
    "print S"
   ]
  },
  {
   "cell_type": "raw",
   "metadata": {},
   "source": [
    "Ahora crearemos una nueva matriz B con los elementos reducidos a 2 dimensiones:"
   ]
  },
  {
   "cell_type": "code",
   "execution_count": 65,
   "metadata": {
    "collapsed": false
   },
   "outputs": [
    {
     "name": "stdout",
     "output_type": "stream",
     "text": [
      "[[ -3.56163933e-01  -5.77350269e-01]\n",
      " [ -4.22460523e-01   2.88675135e-01]\n",
      " [ -3.56163933e-01   2.88675135e-01]\n",
      " [ -4.22460523e-01  -5.77350269e-01]\n",
      " [ -2.89867343e-01   1.66533454e-16]\n",
      " [ -4.22460523e-01   2.88675135e-01]\n",
      " [ -3.56163933e-01   2.88675135e-01]]\n"
     ]
    }
   ],
   "source": [
    "B = np.zeros((len(words),k))\n",
    "for i,w in enumerate(A):\n",
    "    B[i] = np.dot(np.linalg.inv(S),np.dot(Q.T,w))\n",
    "    \n",
    "print B"
   ]
  },
  {
   "cell_type": "raw",
   "metadata": {},
   "source": [
    "Ahora, por ejemplo, \"Juan\" tiene el siguiente vector de dos dimensiones:"
   ]
  },
  {
   "cell_type": "code",
   "execution_count": 66,
   "metadata": {
    "collapsed": false
   },
   "outputs": [
    {
     "name": "stdout",
     "output_type": "stream",
     "text": [
      "[-0.35616393 -0.57735027]\n"
     ]
    }
   ],
   "source": [
    "print B[words[\"Juan\"]]"
   ]
  },
  {
   "cell_type": "raw",
   "metadata": {},
   "source": [
    "Finalmente, podemos ver cómo se ven en un espacio de dos dimensiones a partir de la siguiente función:"
   ]
  },
  {
   "cell_type": "code",
   "execution_count": 67,
   "metadata": {
    "collapsed": false
   },
   "outputs": [
    {
     "data": {
      "image/png": "[encoded data removed]",
      "text/plain": [
       "<matplotlib.figure.Figure at 0x7f20ca5d0750>"
      ]
     },
     "metadata": {},
     "output_type": "display_data"
    }
   ],
   "source": [
    "def plot_words(Z,ids):\n",
    "    import matplotlib.pyplot as plt\n",
    "    r=0\n",
    "    plt.scatter(Z[:,0],Z[:,1], marker='o', c='blue')\n",
    "    for label,x,y in zip(ids, Z[:,0], Z[:,1]):\n",
    "        plt.annotate(label.decode('utf8'), xy=(x,y), xytext=(-1,1), textcoords='offset points', ha='center', va='bottom')\n",
    "        r+=1\n",
    "    plt.show()\n",
    "\n",
    "plot_words(B,words.keys())"
   ]
  },
  {
   "cell_type": "raw",
   "metadata": {
    "collapsed": true,
    "slideshow": {
     "slide_type": "skip"
    }
   },
   "source": [
    "Ahora pues, podemos determinar la distancia entre las palabras \"Juan\" y \"Pedro\" o entre \"Pedro\" y \"sushi\". Para esto definirimos una distancia coseno: "
   ]
  },
  {
   "cell_type": "code",
   "execution_count": 68,
   "metadata": {
    "collapsed": false
   },
   "outputs": [
    {
     "name": "stdout",
     "output_type": "stream",
     "text": [
      "0.894427191\n"
     ]
    }
   ],
   "source": [
    "def cos(x,y):\n",
    "    return np.dot(x,y)/( np.linalg.norm(x)*np.linalg.norm(y) )\n",
    "\n",
    "print cos(A[words[\"Juan\"]],A[words[\"Pedro\"]])"
   ]
  },
  {
   "cell_type": "code",
   "execution_count": 69,
   "metadata": {
    "collapsed": false
   },
   "outputs": [
    {
     "name": "stdout",
     "output_type": "stream",
     "text": [
      "0.4472135955\n"
     ]
    }
   ],
   "source": [
    "print cos(A[words[\"Pedro\"]],A[words[\"sushi\"]])"
   ]
  },
  {
   "cell_type": "raw",
   "metadata": {
    "collapsed": true
   },
   "source": [
    "Ahora bien, la distancia entre los vectores de dos dimensiones son las siguientes:"
   ]
  },
  {
   "cell_type": "code",
   "execution_count": 70,
   "metadata": {
    "collapsed": false
   },
   "outputs": [
    {
     "name": "stdout",
     "output_type": "stream",
     "text": [
      "0.996884921124\n"
     ]
    }
   ],
   "source": [
    "print cos(B[words[\"Juan\"]],B[words[\"Pedro\"]])"
   ]
  },
  {
   "cell_type": "code",
   "execution_count": 71,
   "metadata": {
    "collapsed": false
   },
   "outputs": [
    {
     "name": "stdout",
     "output_type": "stream",
     "text": [
      "-0.0493968811293\n"
     ]
    }
   ],
   "source": [
    "print cos(B[words[\"Pedro\"]],B[words[\"sushi\"]])"
   ]
  },
  {
   "cell_type": "code",
   "execution_count": null,
   "metadata": {
    "collapsed": true
   },
   "outputs": [],
   "source": []
  }
 ],
 "metadata": {
  "kernelspec": {
   "display_name": "Python 2",
   "language": "python",
   "name": "python2"
  },
  "language_info": {
   "codemirror_mode": {
    "name": "ipython",
    "version": 2
   },
   "file_extension": ".py",
   "mimetype": "text/x-python",
   "name": "python",
   "nbconvert_exporter": "python",
   "pygments_lexer": "ipython2",
   "version": "2.7.11"
  }
 },
 "nbformat": 4,
 "nbformat_minor": 0
}
