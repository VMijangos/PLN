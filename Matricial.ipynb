{
 "cells": [
  {
   "cell_type": "markdown",
   "metadata": {},
   "source": [
    "# Representación matricial de textos"
   ]
  },
  {
   "cell_type": "raw",
   "metadata": {},
   "source": [
    "Para realizar varias tareas en el Procesamiento del Lenguaje Natural es conveniente saber representar las palabras en relaciones dentro de una matriz. Por ejemplo, si queremos saber la correlación que existe entre dos palabras o la probabilidad condicional entre dos entradas léxicas, podemos generar una matriz y guardar los valores de interes en dicha matriz.\n",
    "Para esto utilizaremos la función de tokenización y stemming que ya hemos visto."
   ]
  },
  {
   "cell_type": "code",
   "execution_count": 1,
   "metadata": {
    "collapsed": false
   },
   "outputs": [],
   "source": [
    "from preprocessing import preprocess\n",
    "import numpy as np"
   ]
  },
  {
   "cell_type": "raw",
   "metadata": {},
   "source": [
    "Una matriz tiene entradas númericas. Para esto, necesitamos convertir los datos textuales en datos numéricos. Con la siguiente función, crearemos un diccionario sencillo que guarde cada palabra y le asigne un valor numérico. Para esto, usaremos la librería collections, que nos permitirá trabajar el diccionario como una función."
   ]
  },
  {
   "cell_type": "code",
   "execution_count": 2,
   "metadata": {
    "collapsed": false
   },
   "outputs": [],
   "source": [
    "from collections import defaultdict\n",
    "\n",
    "def vocab():\n",
    "    vocab = defaultdict()\n",
    "    vocab.default_factory = lambda: len(vocab)\n",
    "    return vocab    "
   ]
  },
  {
   "cell_type": "raw",
   "metadata": {},
   "source": [
    "NOTA: Este diccionario también puede hacerse a partir de la asignación de los rangos estadísticos de las palabras. Sin embargo, esto es más costoso en cuanto necesitamos obtener las frecuencias de cada una de las palabras."
   ]
  },
  {
   "cell_type": "raw",
   "metadata": {},
   "source": [
    "Ahora, definiremos una función que tomará la función id() y el texto para obtener las sustitución de las palabras por sus valores numéricos en el texto."
   ]
  },
  {
   "cell_type": "code",
   "execution_count": 3,
   "metadata": {
    "collapsed": true
   },
   "outputs": [],
   "source": [
    "def text2numba(corpus, vocab):\n",
    "    for doc in corpus:\n",
    "        yield [vocab[w] for w in preprocess(doc)]"
   ]
  },
  {
   "cell_type": "raw",
   "metadata": {},
   "source": [
    "Ahora veamos cómo aplicar estas funciones."
   ]
  },
  {
   "cell_type": "code",
   "execution_count": 4,
   "metadata": {
    "collapsed": false
   },
   "outputs": [
    {
     "name": "stdout",
     "output_type": "stream",
     "text": [
      "[[0, 1, 2, 3, 4, 5, 6], [7, 8, 9, 10, 11, 12, 1]]\n"
     ]
    }
   ],
   "source": [
    "documents = ['El gato de mi vecine me gusta.','Juan, que come lejos, ve al gato']\n",
    "\n",
    "ids = vocab()\n",
    "text_numba = list(text2numba(documents,ids))\n",
    "\n",
    "print(text_numba)"
   ]
  },
  {
   "cell_type": "raw",
   "metadata": {},
   "source": [
    "Podemos observar cuáles son los tipos obtenidos."
   ]
  },
  {
   "cell_type": "code",
   "execution_count": 5,
   "metadata": {
    "collapsed": false
   },
   "outputs": [
    {
     "name": "stdout",
     "output_type": "stream",
     "text": [
      "[u'me', u'el', u'gat', u've', u'gust', u'vecin', u'de', u'mi', u'al', u'que', u'lej', u'com', u'juan']\n"
     ]
    }
   ],
   "source": [
    "print(ids.keys())"
   ]
  },
  {
   "cell_type": "raw",
   "metadata": {},
   "source": [
    "Y ahora, podemos obtener una matriz simplemente relacionaremos las palabras a partir de sus valores numéricos."
   ]
  },
  {
   "cell_type": "code",
   "execution_count": 6,
   "metadata": {
    "collapsed": true
   },
   "outputs": [],
   "source": [
    "A = np.zeros((len(ids),len(ids)))"
   ]
  },
  {
   "cell_type": "raw",
   "metadata": {},
   "source": [
    "Ahora, por ejemplo, podemos decir que la palabra 'gat' y 'juan' se relacionan en un 0.5. Asignaremos este valor a la entrada de la amtriz correspondiente."
   ]
  },
  {
   "cell_type": "code",
   "execution_count": 7,
   "metadata": {
    "collapsed": false
   },
   "outputs": [
    {
     "name": "stdout",
     "output_type": "stream",
     "text": [
      "[[ 0.   0.   0.   0.   0.   0.   0.   0.   0.   0.   0.   0.   0. ]\n",
      " [ 0.   0.   0.   0.   0.   0.   0.   0.5  0.   0.   0.   0.   0. ]\n",
      " [ 0.   0.   0.   0.   0.   0.   0.   0.   0.   0.   0.   0.   0. ]\n",
      " [ 0.   0.   0.   0.   0.   0.   0.   0.   0.   0.   0.   0.   0. ]\n",
      " [ 0.   0.   0.   0.   0.   0.   0.   0.   0.   0.   0.   0.   0. ]\n",
      " [ 0.   0.   0.   0.   0.   0.   0.   0.   0.   0.   0.   0.   0. ]\n",
      " [ 0.   0.   0.   0.   0.   0.   0.   0.   0.   0.   0.   0.   0. ]\n",
      " [ 0.   0.   0.   0.   0.   0.   0.   0.   0.   0.   0.   0.   0. ]\n",
      " [ 0.   0.   0.   0.   0.   0.   0.   0.   0.   0.   0.   0.   0. ]\n",
      " [ 0.   0.   0.   0.   0.   0.   0.   0.   0.   0.   0.   0.   0. ]\n",
      " [ 0.   0.   0.   0.   0.   0.   0.   0.   0.   0.   0.   0.   0. ]\n",
      " [ 0.   0.   0.   0.   0.   0.   0.   0.   0.   0.   0.   0.   0. ]\n",
      " [ 0.   0.   0.   0.   0.   0.   0.   0.   0.   0.   0.   0.   0. ]]\n"
     ]
    }
   ],
   "source": [
    "A[ids['gat'],ids['juan']] = 0.5\n",
    "\n",
    "print(A)"
   ]
  },
  {
   "cell_type": "raw",
   "metadata": {},
   "source": [
    "Vemos que la amtriz de zero se modificó en la entrada correspondiente a 'gat', 'juan'. Podemos acceder a un valor en particular."
   ]
  },
  {
   "cell_type": "code",
   "execution_count": 9,
   "metadata": {
    "collapsed": false
   },
   "outputs": [
    {
     "name": "stdout",
     "output_type": "stream",
     "text": [
      "0.5\n",
      "0.0\n"
     ]
    }
   ],
   "source": [
    "print(A[ids['gat'], ids['juan']])\n",
    "print(A[ids['gat'], ids['vecin']])"
   ]
  },
  {
   "cell_type": "code",
   "execution_count": null,
   "metadata": {
    "collapsed": true
   },
   "outputs": [],
   "source": []
  }
 ],
 "metadata": {
  "kernelspec": {
   "display_name": "Python 2",
   "language": "python",
   "name": "python2"
  },
  "language_info": {
   "codemirror_mode": {
    "name": "ipython",
    "version": 2
   },
   "file_extension": ".py",
   "mimetype": "text/x-python",
   "name": "python",
   "nbconvert_exporter": "python",
   "pygments_lexer": "ipython2",
   "version": "2.7.12"
  }
 },
 "nbformat": 4,
 "nbformat_minor": 0
}
