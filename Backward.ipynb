{
 "cells": [
  {
   "cell_type": "markdown",
   "metadata": {},
   "source": [
    "# Backward Procedure"
   ]
  },
  {
   "cell_type": "markdown",
   "metadata": {},
   "source": [
    "El procedimiento de retroceso o bacward procedure es similar al procedimiento de avance, pero la cadena se recorre en sentido inverso, es decir, de derecha a izquierda. Aquí presentamos una implementación simplie de este procedimiento utilizando las propiedades de operaciones entre arreglos en numpy."
   ]
  },
  {
   "cell_type": "code",
   "execution_count": 1,
   "metadata": {
    "collapsed": true
   },
   "outputs": [],
   "source": [
    "from __future__ import division\n",
    "import numpy as np"
   ]
  },
  {
   "cell_type": "markdown",
   "metadata": {},
   "source": [
    "En primer lugar, definimos nuestro modelo oculto de Markov, que cuenta con la matriz de transiciones $A$, la matriz de probabilidades de emisiones $B$, el vector de iniciales $\\Pi$ y los alfabetos de observaciones $\\Sigma$ y de emisiones $\\Delta$. En este caso, indexamos los alfabetos a partir de estructuras de diccionario."
   ]
  },
  {
   "cell_type": "code",
   "execution_count": 2,
   "metadata": {
    "collapsed": false
   },
   "outputs": [],
   "source": [
    "A = np.array([[1/6,1/6,1/5],[4/6,1/6,1/5],[1/6,3/6,1/5]])\n",
    "B = np.array([[4/7,1/7,1/6],[1/7,2/7,1/6],[1/7,2/7,1/6],[1/7,2/7,3/6]])\n",
    "P = np.array([4/6,1/6,1/6])\n",
    "\n",
    "O = {'la': 0, 'nina': 1, 'garza':2, 'pasa':3}\n",
    "S = {'DA':0, 'N': 1,'V':2}"
   ]
  },
  {
   "cell_type": "markdown",
   "metadata": {},
   "source": [
    "El siguiente paso es obtener una cadena de observaciones, $d \\in \\Delta^*$, y la separamos en sus elementos constituyentes (que en este caso son palabras) para obtener una lista, con la que trabajaremos."
   ]
  },
  {
   "cell_type": "code",
   "execution_count": 3,
   "metadata": {
    "collapsed": false
   },
   "outputs": [
    {
     "name": "stdout",
     "output_type": "stream",
     "text": [
      "['la', 'nina', 'pasa', 'la', 'garza']\n"
     ]
    }
   ],
   "source": [
    "obs = 'la nina pasa la garza'\n",
    "obs = obs.split()\n",
    "print obs"
   ]
  },
  {
   "cell_type": "markdown",
   "metadata": {},
   "source": [
    "Ahora es cuando iniciamos con el procedimiento de retroceso. El paso de inducción consiste en determinar las variables $\\beta_i(T) = 1$. En este caso, utilizamos un vector, que podemos denotar como $\\beta_\\cdot(T)$, el cual contendrá en un primer momento sólo unos."
   ]
  },
  {
   "cell_type": "code",
   "execution_count": 4,
   "metadata": {
    "collapsed": false
   },
   "outputs": [],
   "source": [
    "b = np.ones(len(P))"
   ]
  },
  {
   "cell_type": "markdown",
   "metadata": {},
   "source": [
    "En el paso inductivo tenemos que obtener las variables:\n",
    "\n",
    "$$\\beta_j(t) = \\sum_{i=1}^N p(s^{(t+1)} | d_i^{(t+1)}) p(d_i^{(t+1)}|d_{j}^{(t)}) \\beta_i(t+1)$$\n",
    "\n",
    "Ya que estamos trabajando con arreglos de numpy, podemos ver que la suma y el producto sobre los $i$-ésimos elementos determinan un producto punto. Así, $B_{(t+1),\\cdot}$ representa el vector columna correspondiente al elemento de la cadena de observaciones en el estado $t+1$, $A_{\\cdot, j}$ a la $j$-ésima columna de la matriz de transiciones $A$ y $\\hat{\\beta}(t+1)$ al vector de las variables $\\beta$ en el estado subsecuente. Así, podemos expresar la ecuación anterior como:\n",
    "\n",
    "$$\\beta_j(t) = [\\hat{\\beta}(t+1) \\otimes B_{(t+1),\\cdot}] \\cdot A_{\\cdot, j}$$\n",
    "\n",
    "Donde $\\cdot$ es el producto punto, y $\\otimes$ el producto de Hadarmard. En términos generales, podemos actualizar todas las variables $\\beta$ expresándolo como un vector $\\hat{\\beta}(t)$ y de esta forma, tenemos que realizar la operación:\n",
    "\n",
    "$$\\hat{\\beta(t)} = A^T [\\hat{\\beta}(t+1) \\otimes B_{(t+1),\\cdot}]$$\n",
    "\n",
    "Donde el producto punto se hace con toda la matriz de transiciones $A$."
   ]
  },
  {
   "cell_type": "code",
   "execution_count": 5,
   "metadata": {
    "collapsed": false
   },
   "outputs": [
    {
     "name": "stdout",
     "output_type": "stream",
     "text": [
      "simbolo: garza - probabilidad: 0.207010582011\n",
      "simbolo: la garza - probabilidad: 0.0395187704712\n",
      "simbolo: pasa la garza - probabilidad: 0.0104125874336\n",
      "simbolo: nina pasa la garza - probabilidad: 0.00222623689603\n",
      "simbolo: la nina pasa la garza - probabilidad: 0.000411172135693\n"
     ]
    }
   ],
   "source": [
    "T = len(obs)\n",
    "for i in range(T):    \n",
    "    t = (T-(i+1))    \n",
    "    b = np.dot(A.T, b*B[O[obs[t]]])    \n",
    "       \n",
    "    print 'simbolo:', (' ').join(obs[t:]), '- probabilidad:', np.dot(P,b)"
   ]
  },
  {
   "cell_type": "markdown",
   "metadata": {},
   "source": [
    "Finalmente, el paso de terminación consiste en obtener la probabilidad de la cadena de la siguiente forma:\n",
    "\n",
    "$$p(s^1,..,s^T) = \\sum_{j=1}^N  \\pi_j \\beta_j(0)$$\n",
    "\n",
    "Donde $\\pi_j$ es la $j$-ésima probabilidad inicial. De igual forma, podemos aprovechar la estructura de los arreglos y expresar la suma de los productos por medio de un producto punto con el vector de probabilidades inicailes $\\Pi$ y el vector de variables $\\beta(0)$. Esto es:\n",
    "\n",
    "$$p(s^1,..,s^T) =  \\Pi \\cdot \\hat{\\beta}(1)$$\n"
   ]
  },
  {
   "cell_type": "code",
   "execution_count": 6,
   "metadata": {
    "collapsed": false
   },
   "outputs": [
    {
     "name": "stdout",
     "output_type": "stream",
     "text": [
      "La probabilidad de la observación es: 0.000411172135693\n"
     ]
    }
   ],
   "source": [
    "print 'La probabilidad de la observación es:', np.dot(P,b)"
   ]
  },
  {
   "cell_type": "markdown",
   "metadata": {},
   "source": [
    "."
   ]
  }
 ],
 "metadata": {
  "kernelspec": {
   "display_name": "Python 2",
   "language": "python",
   "name": "python2"
  },
  "language_info": {
   "codemirror_mode": {
    "name": "ipython",
    "version": 2
   },
   "file_extension": ".py",
   "mimetype": "text/x-python",
   "name": "python",
   "nbconvert_exporter": "python",
   "pygments_lexer": "ipython2",
   "version": "2.7.13"
  }
 },
 "nbformat": 4,
 "nbformat_minor": 2
}
