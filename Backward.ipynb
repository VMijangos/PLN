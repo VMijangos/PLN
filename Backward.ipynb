{
 "cells": [
  {
   "cell_type": "markdown",
   "metadata": {},
   "source": [
    "# Backward Procedure"
   ]
  },
  {
   "cell_type": "markdown",
   "metadata": {},
   "source": [
    "El procedimiento de retroceso o bacward procedure es similar al procedimiento de avance, pero la cadena se recorre en sentido inverso, es decir, de derecha a izquierda. Aquí presentamos una implementación simplie de este procedimiento utilizando las propiedades de operaciones entre arreglos en numpy."
   ]
  },
  {
   "cell_type": "code",
   "execution_count": 1,
   "metadata": {
    "collapsed": true
   },
   "outputs": [],
   "source": [
    "from __future__ import division\n",
    "import numpy as np"
   ]
  },
  {
   "cell_type": "markdown",
   "metadata": {},
   "source": [
    "En primer lugar, definimos nuestro modelo oculto de Markov, que cuenta con la matriz de transiciones $A$, la matriz de probabilidades de emisiones $B$, el vector de iniciales $\\Pi$ y los alfabetos de observaciones $O$ y de emisiones $S$. En este caso, indexamos los alfabetos a partir de estructuras de diccionario."
   ]
  },
  {
   "cell_type": "code",
   "execution_count": 2,
   "metadata": {
    "collapsed": false
   },
   "outputs": [],
   "source": [
    "A = np.array([[1/6,1/6,1/5],[4/6,1/6,1/5],[1/6,3/6,1/5]])\n",
    "B = np.array([[4/7,1/7,1/6],[1/7,2/7,1/6],[1/7,2/7,1/6],[1/7,2/7,3/6]])\n",
    "P = np.array([4/6,1/6,1/6])\n",
    "\n",
    "O = {'la': 0, 'nina': 1, 'garza':2, 'pasa':3}\n",
    "S = {'DA':0, 'N': 1,'V':2}"
   ]
  },
  {
   "cell_type": "markdown",
   "metadata": {},
   "source": [
    "El siguiente paso es obtener una cadena de observaciones, $o \\in O^*$, y la separamos en sus elementos constituyentes (que en este caso son palabras) para obtener una lista, con la que trabajaremos."
   ]
  },
  {
   "cell_type": "code",
   "execution_count": 3,
   "metadata": {
    "collapsed": false
   },
   "outputs": [
    {
     "name": "stdout",
     "output_type": "stream",
     "text": [
      "['la', 'nina', 'la', 'pasa']\n"
     ]
    }
   ],
   "source": [
    "obs = 'la nina la pasa'\n",
    "obs = obs.split()\n",
    "print obs"
   ]
  },
  {
   "cell_type": "markdown",
   "metadata": {},
   "source": [
    "Ahora es cuando iniciamos con el procedimiento de retroceso. El paso de inducción consiste en determinar las variables $\\beta_i(T+1) = 1$. En este caso, utilizamos un vector, que podemos denotar como $\\beta_\\cdot(T+1)$, el cual contendrá en un primer momento sólo unos."
   ]
  },
  {
   "cell_type": "code",
   "execution_count": 4,
   "metadata": {
    "collapsed": false
   },
   "outputs": [],
   "source": [
    "b = np.ones(len(P))"
   ]
  },
  {
   "cell_type": "markdown",
   "metadata": {},
   "source": [
    "En el paso inductivo tenemos que obtener las variables:\n",
    "\n",
    "$$\\beta_j(t) = \\sum_{i=1^N} p(o_t|s_j)p(s_i|s_j)\\beta_i(t+1)$$\n",
    "\n",
    "Ya que estamos trabajando con arreglos de numpy, podemos ver que la suma y el producto sobre los $i$-ésimos elementos determinan un producto punto. Así, $B_{t,\\cdot}$ representa el vector columna correspondiente al elemento de la cadena de observaciones en el estado $t$, $A_{\\cdot, j}$ a la $j$-ésima columna de la matriz de transiciones $A$ y $\\beta_\\cdot(t+1)$ al vector de las variables $\\beta$ en el estado subsecuente. Así, podemos expresar la ecuación anterior como:\n",
    "\n",
    "$$\\beta_j(t) = (\\beta_\\cdot(t+1) \\otimes B_{t,\\cdot}) \\cdot A_{\\cdot, j}$$\n",
    "\n",
    "Donde $\\cdot$ es el producto punto, y $\\otimes$ el producto de Hadarmard. En términos generales, podemos actualizar todas las variables $\\beta$ expresándolo como un vector $\\beta_\\cdot(t)$ y de esta forma, tenemos que realizar la operación:\n",
    "\n",
    "$$\\beta_\\cdot(t) = (\\beta_\\cdot(t+1) \\otimes B_{t,\\cdot}) \\cdot A$$\n",
    "\n",
    "Donde el producto punto se hace con toda la matriz de transiciones $A$."
   ]
  },
  {
   "cell_type": "code",
   "execution_count": 5,
   "metadata": {
    "collapsed": false
   },
   "outputs": [],
   "source": [
    "t = len(obs)\n",
    "for i in range(t):\n",
    "    b = np.dot( b*B[O[obs[t-i-1]]], A )"
   ]
  },
  {
   "cell_type": "markdown",
   "metadata": {},
   "source": [
    "Finalmente, el paso de terminación consiste en obtener la probabilidad de la cadena de la siguiente forma:\n",
    "\n",
    "$$p(o_1,..,o_T) = \\sum_{j=1}^N \\pi_j \\beta_j(1)$$\n",
    "\n",
    "Donde $\\pi_j$ es la $j$-ésima probabilidad inicial. De igual forma, podemos aprovechar la estructura de los arreglos y expresar la suma de los productos por medio de un producto punto con el vector de probabilidades inicailes $\\Pi$ y el vector de variables $\\beta_\\cdot(1)$. Esto es:\n",
    "\n",
    "$$p(o_1,..,o_T) = \\Pi \\cdot \\beta_\\cdot(1)$$\n"
   ]
  },
  {
   "cell_type": "code",
   "execution_count": 6,
   "metadata": {
    "collapsed": false
   },
   "outputs": [
    {
     "name": "stdout",
     "output_type": "stream",
     "text": [
      "0.00207835958268\n"
     ]
    }
   ],
   "source": [
    "print np.dot(P,b)"
   ]
  },
  {
   "cell_type": "markdown",
   "metadata": {},
   "source": [
    "Por último, podemos comparar nuestros resultados con la variable de avance. Está se resume de la siguiente forma:"
   ]
  },
  {
   "cell_type": "code",
   "execution_count": 7,
   "metadata": {
    "collapsed": false
   },
   "outputs": [
    {
     "name": "stdout",
     "output_type": "stream",
     "text": [
      "0.00244700647707\n"
     ]
    }
   ],
   "source": [
    "a = P\n",
    "for t in range(len(obs)):\n",
    "    a = np.dot( A.T, B[O[obs[t]]]*a )\n",
    "                  \n",
    "print a.sum(0)"
   ]
  },
  {
   "cell_type": "markdown",
   "metadata": {},
   "source": [
    "Como se puede observar, los resultados obtenidos por ambos métodos son muy similares, lo que muestra que ambos métodos dan una probabilidad cercana a la probabilidad que buscamos sobre una cadena de observaciones."
   ]
  }
 ],
 "metadata": {
  "kernelspec": {
   "display_name": "Python 2",
   "language": "python",
   "name": "python2"
  },
  "language_info": {
   "codemirror_mode": {
    "name": "ipython",
    "version": 2
   },
   "file_extension": ".py",
   "mimetype": "text/x-python",
   "name": "python",
   "nbconvert_exporter": "python",
   "pygments_lexer": "ipython2",
   "version": "2.7.13"
  }
 },
 "nbformat": 4,
 "nbformat_minor": 2
}
